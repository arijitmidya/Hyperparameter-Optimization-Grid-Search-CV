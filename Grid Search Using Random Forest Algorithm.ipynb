{
 "cells": [
  {
   "attachments": {
    "128bb243-c4b7-4481-8b17-9f49a1dc0f21.png": {
     "image/png": "[encoded data removed]"
    }
   },
   "cell_type": "markdown",
   "metadata": {
    "pycharm": {
     "name": "#%% md\n"
    }
   },
   "source": [
    "# Grid search Method\n",
    "\n",
    "What is the grid search method?\n",
    "\r\n",
    "Grid search is a straightforward method for hyperparameter optimization in ML. It is a well-known approach (after the random search method) commonly employed by ML practitioners due to its simplicity and convenience of implementation. We’ll learn its theory and how to apply it in a simple ML project using the open-source Python library called scikit-learn.\r\n",
    "\r\n",
    "The grid search procedure begins with the specification of a set of possible values for each hyperparameter. For instance, if the ML model includes two hyperparameters, one for the learning rate and one for the number of estimators, the learning rate can be set to 0.1, 0.01, or 0.001, and the number of estimators can be set to 10, 20, or 50.\r\n",
    "\r\n",
    "Once the value range for each hyperparameter has been set, the grid search method will train and evaluate an ML model for each hyperparameter value combination. This can be computationally expensive, especially if there are a large number of hyperparameters and alternative values for each. Nonetheless, it is a straightforward and widely used method to find the best hyperparame\n",
    "\n",
    "![image.png](attachment:128bb243-c4b7-4481-8b17-9f49a1dc0f21.png)\n",
    "\n",
    "The above illustration shows how the grid search method selects each possible combination of hyperparameter values.\r\n",
    "\r\n",
    "Grid search is an exhaustive method, meaning that it searches the entire grid of hyperparameter values, rather than stopping after a certain number of iterations or when it finds a good enough set of parameters.\r\n",
    "\r\n",
    "For example, if the ML algorithm has seven hyperparameters and each one of them has five different values for optimization, this means that the ML model will be trained 78,125 times in total to find the best combination of hyperparameter values.\r\n",
    "\r\n",
    "It is recommended to implement the grid search method on a powerful computer or cloud computing technology (AWS, AZURE, GCP) if:\r\n",
    "\r\n",
    "There are many hyperparameters for optimization.\r\n",
    "\r\n",
    "There are many different values for each hyperparameter.\r\n",
    "\r\n",
    "The dataset for the ML project is very large.\r\n",
    "\r\n",
    "Therefore, the grid search is a method for hyperparameter optimization that is preferable to use in the following situations:\r\n",
    "\r\n",
    "When the number of hyperparameters is small\r\n",
    "\r\n",
    "When the ML algorithm is simple and does not require much expertise to implement\r\n",
    "\r\n",
    "When the dataset is relatively smallters.\n",
    "\n"
   ]
  },
  {
   "attachments": {},
   "cell_type": "markdown",
   "metadata": {
    "pycharm": {
     "name": "#%% md\n"
    }
   },
   "source": [
    "## Import important packages\n",
    "First, we import important Python packages that will do the following tasks:\n",
    "\n",
    "- Load the dataset.\n",
    "- Clean the dataset.\n",
    "- Process the dataset using feature engineering techniques.\n",
    "- Create and train machine learning model (the random forest algorithm).\n",
    "- Check machine learning model performance.\n",
    "- Implement grid search method.\n",
    "- Identify combination of hyperparameters that provide the best results.\n",
    "\n"
   ]
  },
  {
   "cell_type": "code",
   "execution_count": 1,
   "metadata": {
    "ExecuteTime": {
     "end_time": "2024-01-17T09:15:50.936900Z",
     "start_time": "2024-01-17T09:15:50.353038Z"
    },
    "pycharm": {
     "name": "#%%\n"
    }
   },
   "outputs": [],
   "source": [
    "# import important modules\n",
    "import numpy as np\n",
    "import pandas as pd\n",
    "\n",
    "# sklearn modules\n",
    "from sklearn.ensemble import RandomForestClassifier\n",
    "from sklearn.metrics import f1_score\n",
    "from sklearn.model_selection import cross_val_score\n",
    "from sklearn.preprocessing import MinMaxScaler\n",
    "\n",
    "import warnings\n",
    "warnings.filterwarnings(\"ignore\")\n",
    "# Seeding\n",
    "np.random.seed(123)"
   ]
  },
  {
   "attachments": {},
   "cell_type": "markdown",
   "metadata": {
    "pycharm": {
     "name": "#%% md\n"
    }
   },
   "source": [
    "\n",
    "## Load the dataset\n",
    "We will use pandas to load the dataset from the data folder. The name of the dataset is\n",
    "loan_data.csv."
   ]
  },
  {
   "cell_type": "code",
   "execution_count": 2,
   "metadata": {
    "ExecuteTime": {
     "end_time": "2024-01-17T09:15:50.942905Z",
     "start_time": "2024-01-17T09:15:50.938082Z"
    },
    "pycharm": {
     "name": "#%%\n"
    }
   },
   "outputs": [],
   "source": [
    "# Load data\n",
    "\n",
    "data_path = \"loan_data.csv\"\n",
    "\n",
    "data = pd.read_csv(data_path)"
   ]
  },
  {
   "attachments": {},
   "cell_type": "markdown",
   "metadata": {
    "pycharm": {
     "name": "#%% md\n"
    }
   },
   "source": [
    "Let’s see the first five rows of the dataset using the head() method from pandas."
   ]
  },
  {
   "cell_type": "code",
   "execution_count": 3,
   "metadata": {
    "ExecuteTime": {
     "end_time": "2024-01-17T09:15:50.970248Z",
     "start_time": "2024-01-17T09:15:50.950363Z"
    },
    "pycharm": {
     "name": "#%%\n"
    }
   },
   "outputs": [
    {
     "data": {
      "text/html": [
       "<div>\n",
       "<style scoped>\n",
       "    .dataframe tbody tr th:only-of-type {\n",
       "        vertical-align: middle;\n",
       "    }\n",
       "\n",
       "    .dataframe tbody tr th {\n",
       "        vertical-align: top;\n",
       "    }\n",
       "\n",
       "    .dataframe thead th {\n",
       "        text-align: right;\n",
       "    }\n",
       "</style>\n",
       "<table border=\"1\" class=\"dataframe\">\n",
       "  <thead>\n",
       "    <tr style=\"text-align: right;\">\n",
       "      <th></th>\n",
       "      <th>Loan_ID</th>\n",
       "      <th>Gender</th>\n",
       "      <th>Married</th>\n",
       "      <th>Dependents</th>\n",
       "      <th>Education</th>\n",
       "      <th>Self_Employed</th>\n",
       "      <th>ApplicantIncome</th>\n",
       "      <th>CoapplicantIncome</th>\n",
       "      <th>LoanAmount</th>\n",
       "      <th>Loan_Amount_Term</th>\n",
       "      <th>Credit_History</th>\n",
       "      <th>Property_Area</th>\n",
       "      <th>Loan_Status</th>\n",
       "    </tr>\n",
       "  </thead>\n",
       "  <tbody>\n",
       "    <tr>\n",
       "      <th>0</th>\n",
       "      <td>LP001002</td>\n",
       "      <td>Male</td>\n",
       "      <td>No</td>\n",
       "      <td>0</td>\n",
       "      <td>Graduate</td>\n",
       "      <td>No</td>\n",
       "      <td>5849</td>\n",
       "      <td>0.0</td>\n",
       "      <td>NaN</td>\n",
       "      <td>360.0</td>\n",
       "      <td>1.0</td>\n",
       "      <td>Urban</td>\n",
       "      <td>Y</td>\n",
       "    </tr>\n",
       "    <tr>\n",
       "      <th>1</th>\n",
       "      <td>LP001003</td>\n",
       "      <td>Male</td>\n",
       "      <td>Yes</td>\n",
       "      <td>1</td>\n",
       "      <td>Graduate</td>\n",
       "      <td>No</td>\n",
       "      <td>4583</td>\n",
       "      <td>1508.0</td>\n",
       "      <td>128.0</td>\n",
       "      <td>360.0</td>\n",
       "      <td>1.0</td>\n",
       "      <td>Rural</td>\n",
       "      <td>N</td>\n",
       "    </tr>\n",
       "    <tr>\n",
       "      <th>2</th>\n",
       "      <td>LP001005</td>\n",
       "      <td>Male</td>\n",
       "      <td>Yes</td>\n",
       "      <td>0</td>\n",
       "      <td>Graduate</td>\n",
       "      <td>Yes</td>\n",
       "      <td>3000</td>\n",
       "      <td>0.0</td>\n",
       "      <td>66.0</td>\n",
       "      <td>360.0</td>\n",
       "      <td>1.0</td>\n",
       "      <td>Urban</td>\n",
       "      <td>Y</td>\n",
       "    </tr>\n",
       "    <tr>\n",
       "      <th>3</th>\n",
       "      <td>LP001006</td>\n",
       "      <td>Male</td>\n",
       "      <td>Yes</td>\n",
       "      <td>0</td>\n",
       "      <td>Not Graduate</td>\n",
       "      <td>No</td>\n",
       "      <td>2583</td>\n",
       "      <td>2358.0</td>\n",
       "      <td>120.0</td>\n",
       "      <td>360.0</td>\n",
       "      <td>1.0</td>\n",
       "      <td>Urban</td>\n",
       "      <td>Y</td>\n",
       "    </tr>\n",
       "    <tr>\n",
       "      <th>4</th>\n",
       "      <td>LP001008</td>\n",
       "      <td>Male</td>\n",
       "      <td>No</td>\n",
       "      <td>0</td>\n",
       "      <td>Graduate</td>\n",
       "      <td>No</td>\n",
       "      <td>6000</td>\n",
       "      <td>0.0</td>\n",
       "      <td>141.0</td>\n",
       "      <td>360.0</td>\n",
       "      <td>1.0</td>\n",
       "      <td>Urban</td>\n",
       "      <td>Y</td>\n",
       "    </tr>\n",
       "  </tbody>\n",
       "</table>\n",
       "</div>"
      ],
      "text/plain": [
       "    Loan_ID Gender Married Dependents     Education Self_Employed  \\\n",
       "0  LP001002   Male      No          0      Graduate            No   \n",
       "1  LP001003   Male     Yes          1      Graduate            No   \n",
       "2  LP001005   Male     Yes          0      Graduate           Yes   \n",
       "3  LP001006   Male     Yes          0  Not Graduate            No   \n",
       "4  LP001008   Male      No          0      Graduate            No   \n",
       "\n",
       "   ApplicantIncome  CoapplicantIncome  LoanAmount  Loan_Amount_Term  \\\n",
       "0             5849                0.0         NaN             360.0   \n",
       "1             4583             1508.0       128.0             360.0   \n",
       "2             3000                0.0        66.0             360.0   \n",
       "3             2583             2358.0       120.0             360.0   \n",
       "4             6000                0.0       141.0             360.0   \n",
       "\n",
       "   Credit_History Property_Area Loan_Status  \n",
       "0             1.0         Urban           Y  \n",
       "1             1.0         Rural           N  \n",
       "2             1.0         Urban           Y  \n",
       "3             1.0         Urban           Y  \n",
       "4             1.0         Urban           Y  "
      ]
     },
     "execution_count": 3,
     "metadata": {},
     "output_type": "execute_result"
    }
   ],
   "source": [
    "# Show the top five rows of data\n",
    "data.head()"
   ]
  },
  {
   "attachments": {},
   "cell_type": "markdown",
   "metadata": {
    "pycharm": {
     "name": "#%% md\n"
    }
   },
   "source": [
    "As we can see, the dataset has 13 columns.\n",
    "\n",
    "- Loan_ID: Unique loan ID\n",
    "- Gender: Male/Female \n",
    "- Married: Applicant married (Y/N)\n",
    "- Dependents: Number of dependents\n",
    "- Education: Applicant education (Graduate/Undergraduate)\n",
    "- Self_Employed: Self-employed (Y/N)\n",
    "- ApplicantIncome: Applicant income\n",
    "- CoapplicantIncome: Co-applicant income\n",
    "- LoanAmount: Loan amount in thousands\n",
    "- Loan_Amount_Term: Term of the loan in months\n",
    "- Credit_History: Credit history meets guidelines\n",
    "- Property_Area: Urban/Semi-Urban/Rural\n",
    "- Loan_Status: Loan approved (Y/N)\n",
    "\n",
    "The shape method from pandas will let us know the total number of rows and columns available in\n",
    "the dataset."
   ]
  },
  {
   "cell_type": "code",
   "execution_count": 4,
   "metadata": {
    "ExecuteTime": {
     "end_time": "2024-01-17T09:15:50.975236Z",
     "start_time": "2024-01-17T09:15:50.972931Z"
    },
    "pycharm": {
     "name": "#%%\n"
    }
   },
   "outputs": [
    {
     "data": {
      "text/plain": [
       "(614, 13)"
      ]
     },
     "execution_count": 4,
     "metadata": {},
     "output_type": "execute_result"
    }
   ],
   "source": [
    "# Check the shape of the data\n",
    "data.shape"
   ]
  },
  {
   "attachments": {},
   "cell_type": "markdown",
   "metadata": {},
   "source": [
    "The dataset has 614 loan data."
   ]
  },
  {
   "attachments": {},
   "cell_type": "markdown",
   "metadata": {},
   "source": [
    "The pandas method called info() provides more details about each column presented in the dataset."
   ]
  },
  {
   "cell_type": "code",
   "execution_count": 5,
   "metadata": {
    "ExecuteTime": {
     "end_time": "2024-01-17T09:15:51.023298Z",
     "start_time": "2024-01-17T09:15:51.016616Z"
    }
   },
   "outputs": [
    {
     "name": "stdout",
     "output_type": "stream",
     "text": [
      "<class 'pandas.core.frame.DataFrame'>\n",
      "RangeIndex: 614 entries, 0 to 613\n",
      "Data columns (total 13 columns):\n",
      " #   Column             Non-Null Count  Dtype  \n",
      "---  ------             --------------  -----  \n",
      " 0   Loan_ID            614 non-null    object \n",
      " 1   Gender             601 non-null    object \n",
      " 2   Married            611 non-null    object \n",
      " 3   Dependents         599 non-null    object \n",
      " 4   Education          614 non-null    object \n",
      " 5   Self_Employed      582 non-null    object \n",
      " 6   ApplicantIncome    614 non-null    int64  \n",
      " 7   CoapplicantIncome  614 non-null    float64\n",
      " 8   LoanAmount         592 non-null    float64\n",
      " 9   Loan_Amount_Term   600 non-null    float64\n",
      " 10  Credit_History     564 non-null    float64\n",
      " 11  Property_Area      614 non-null    object \n",
      " 12  Loan_Status        614 non-null    object \n",
      "dtypes: float64(4), int64(1), object(8)\n",
      "memory usage: 62.5+ KB\n"
     ]
    }
   ],
   "source": [
    "data.info()"
   ]
  },
  {
   "attachments": {},
   "cell_type": "markdown",
   "metadata": {},
   "source": [
    "The information above shows that the dataset has columns with different data types, such as object/string, integers, and float."
   ]
  },
  {
   "attachments": {},
   "cell_type": "markdown",
   "metadata": {
    "pycharm": {
     "name": "#%% md\n"
    }
   },
   "source": [
    "## Check missing values\n",
    "\n",
    "It is important to clean the dataset by checking if it has any missing values before starting to\n",
    "train the machine learning model.\n",
    "\n",
    "The following code will provide a total of missing values for each column presented in the dataset."
   ]
  },
  {
   "cell_type": "code",
   "execution_count": 6,
   "metadata": {
    "ExecuteTime": {
     "end_time": "2024-01-17T09:15:51.034215Z",
     "start_time": "2024-01-17T09:15:51.025486Z"
    },
    "pycharm": {
     "name": "#%%\n"
    }
   },
   "outputs": [
    {
     "data": {
      "text/plain": [
       "Loan_ID               0\n",
       "Gender               13\n",
       "Married               3\n",
       "Dependents           15\n",
       "Education             0\n",
       "Self_Employed        32\n",
       "ApplicantIncome       0\n",
       "CoapplicantIncome     0\n",
       "LoanAmount           22\n",
       "Loan_Amount_Term     14\n",
       "Credit_History       50\n",
       "Property_Area         0\n",
       "Loan_Status           0\n",
       "dtype: int64"
      ]
     },
     "execution_count": 6,
     "metadata": {},
     "output_type": "execute_result"
    }
   ],
   "source": [
    "# Check missing values in data\n",
    "data.isnull().sum()"
   ]
  },
  {
   "attachments": {},
   "cell_type": "markdown",
   "metadata": {
    "pycharm": {
     "name": "#%% md\n"
    }
   },
   "source": [
    "The output shows that our dataset has some missing values in different columns."
   ]
  },
  {
   "attachments": {},
   "cell_type": "markdown",
   "metadata": {},
   "source": [
    "First, let’s convert some values in the Loan_Status and Dependents columns into numerical values."
   ]
  },
  {
   "cell_type": "code",
   "execution_count": 7,
   "metadata": {},
   "outputs": [
    {
     "data": {
      "text/plain": [
       "0     345\n",
       "1     102\n",
       "2     101\n",
       "3+     51\n",
       "Name: Dependents, dtype: int64"
      ]
     },
     "execution_count": 7,
     "metadata": {},
     "output_type": "execute_result"
    }
   ],
   "source": [
    "data['Dependents'].value_counts()"
   ]
  },
  {
   "cell_type": "code",
   "execution_count": 8,
   "metadata": {},
   "outputs": [
    {
     "data": {
      "text/plain": [
       "Y    422\n",
       "N    192\n",
       "Name: Loan_Status, dtype: int64"
      ]
     },
     "execution_count": 8,
     "metadata": {},
     "output_type": "execute_result"
    }
   ],
   "source": [
    "data['Loan_Status'].value_counts()"
   ]
  },
  {
   "cell_type": "code",
   "execution_count": 9,
   "metadata": {
    "ExecuteTime": {
     "end_time": "2024-01-17T09:15:51.037633Z",
     "start_time": "2024-01-17T09:15:51.035176Z"
    }
   },
   "outputs": [],
   "source": [
    "# Replace with numerical values\n",
    "data['Dependents'].replace('3+', 3,inplace=True)\n",
    "data['Loan_Status'].replace('N', 0,inplace=True)\n",
    "data['Loan_Status'].replace('Y', 1,inplace=True)"
   ]
  },
  {
   "attachments": {},
   "cell_type": "markdown",
   "metadata": {},
   "source": [
    "For columns with object data type, we use the mode() function from pandas to identify the most common value in that particular column and insert the identified value into all missing points in the column.\n",
    "\n",
    "For columns with numerical data type(int64 or float64), we use the median() function from pandas to find the median value in that particular column and insert the identified value into all missing points in the column."
   ]
  },
  {
   "cell_type": "code",
   "execution_count": 14,
   "metadata": {},
   "outputs": [
    {
     "data": {
      "text/plain": [
       "Loan_ID              0.00\n",
       "Gender               2.12\n",
       "Married              0.49\n",
       "Dependents           2.44\n",
       "Education            0.00\n",
       "Self_Employed        5.21\n",
       "ApplicantIncome      0.00\n",
       "CoapplicantIncome    0.00\n",
       "LoanAmount           3.58\n",
       "Loan_Amount_Term     2.28\n",
       "Credit_History       8.14\n",
       "Property_Area        0.00\n",
       "Loan_Status          0.00\n",
       "dtype: float64"
      ]
     },
     "execution_count": 14,
     "metadata": {},
     "output_type": "execute_result"
    }
   ],
   "source": [
    "round(100*(data.isnull().sum()/len(data.index)),2)"
   ]
  },
  {
   "cell_type": "code",
   "execution_count": 15,
   "metadata": {
    "ExecuteTime": {
     "end_time": "2024-01-17T09:15:51.042279Z",
     "start_time": "2024-01-17T09:15:51.038476Z"
    }
   },
   "outputs": [],
   "source": [
    "# Handle missing data \n",
    "data['Gender'].fillna(data['Gender'].mode()[0], inplace=True)\n",
    "data['Married'].fillna(data['Married'].mode()[0], inplace=True)\n",
    "data['Dependents'].fillna(data['Dependents'].mode()[0], inplace=True)\n",
    "data['Self_Employed'].fillna(data['Self_Employed'].mode()[0], inplace=True)\n",
    "data['Credit_History'].fillna(data['Credit_History'].mode()[0], inplace=True)\n",
    "data['Loan_Amount_Term'].fillna(data['Loan_Amount_Term'].mode()[0], inplace=True)\n",
    "data['LoanAmount'].fillna(data['LoanAmount'].median(), inplace=True)"
   ]
  },
  {
   "attachments": {},
   "cell_type": "markdown",
   "metadata": {},
   "source": [
    "We drop the ID column because it is not used in the process of training a machine learning model."
   ]
  },
  {
   "cell_type": "code",
   "execution_count": 16,
   "metadata": {
    "ExecuteTime": {
     "end_time": "2024-01-17T09:15:51.044893Z",
     "start_time": "2024-01-17T09:15:51.043001Z"
    }
   },
   "outputs": [],
   "source": [
    "# Drop ID column\n",
    "data = data.drop('Loan_ID',axis=1)"
   ]
  },
  {
   "attachments": {},
   "cell_type": "markdown",
   "metadata": {},
   "source": [
    "Let's check again if all missing values in the dataset have been handled."
   ]
  },
  {
   "cell_type": "code",
   "execution_count": 17,
   "metadata": {
    "ExecuteTime": {
     "end_time": "2024-01-17T09:15:51.050317Z",
     "start_time": "2024-01-17T09:15:51.047146Z"
    }
   },
   "outputs": [
    {
     "data": {
      "text/plain": [
       "Gender               0\n",
       "Married              0\n",
       "Dependents           0\n",
       "Education            0\n",
       "Self_Employed        0\n",
       "ApplicantIncome      0\n",
       "CoapplicantIncome    0\n",
       "LoanAmount           0\n",
       "Loan_Amount_Term     0\n",
       "Credit_History       0\n",
       "Property_Area        0\n",
       "Loan_Status          0\n",
       "dtype: int64"
      ]
     },
     "execution_count": 17,
     "metadata": {},
     "output_type": "execute_result"
    }
   ],
   "source": [
    "# Check missing values in data\n",
    "data.isnull().sum()"
   ]
  },
  {
   "attachments": {},
   "cell_type": "markdown",
   "metadata": {
    "ExecuteTime": {
     "end_time": "2023-03-28T18:54:34.003611Z",
     "start_time": "2023-03-28T18:54:33.988691Z"
    }
   },
   "source": [
    "Finally, the dataset does not have any missing values."
   ]
  },
  {
   "attachments": {},
   "cell_type": "markdown",
   "metadata": {
    "pycharm": {
     "name": "#%% md\n"
    }
   },
   "source": [
    "## How to evaluate class distribution\n",
    "Identifying the class distribution helps us to know if the dataset is balanced or not. The value_counts() method from the pandas package can evaluate the class distribution by showing the total number of each unique value in the target column."
   ]
  },
  {
   "cell_type": "code",
   "execution_count": 18,
   "metadata": {
    "ExecuteTime": {
     "end_time": "2024-01-17T09:15:51.053616Z",
     "start_time": "2024-01-17T09:15:51.051065Z"
    },
    "pycharm": {
     "name": "#%%\n"
    }
   },
   "outputs": [
    {
     "data": {
      "text/plain": [
       "1    422\n",
       "0    192\n",
       "Name: Loan_Status, dtype: int64"
      ]
     },
     "execution_count": 18,
     "metadata": {},
     "output_type": "execute_result"
    }
   ],
   "source": [
    "# Evaluate the Loan_status column\n",
    "data.Loan_Status.value_counts()"
   ]
  },
  {
   "attachments": {},
   "cell_type": "markdown",
   "metadata": {
    "pycharm": {
     "name": "#%% md\n"
    }
   },
   "source": [
    "This shows that in this dataset, the distribution in the target column is unequal. There are more 1 values (Yes) than 0 values (No)."
   ]
  },
  {
   "attachments": {},
   "cell_type": "markdown",
   "metadata": {
    "pycharm": {
     "name": "#%% md\n"
    }
   },
   "source": [
    "## Split data into feature and target variables\n",
    "\n",
    "The next step is to split data into feature and target variables."
   ]
  },
  {
   "cell_type": "code",
   "execution_count": 19,
   "metadata": {
    "ExecuteTime": {
     "end_time": "2024-01-17T09:15:51.055974Z",
     "start_time": "2024-01-17T09:15:51.054254Z"
    },
    "pycharm": {
     "name": "#%%\n"
    }
   },
   "outputs": [],
   "source": [
    "#Split features and target from  data\n",
    "X = data.drop('Loan_Status',axis = 1)\n",
    "y = data.Loan_Status.values"
   ]
  },
  {
   "attachments": {},
   "cell_type": "markdown",
   "metadata": {
    "pycharm": {
     "name": "#%% md\n"
    }
   },
   "source": [
    "The target is the Loan_Status variable."
   ]
  },
  {
   "attachments": {},
   "cell_type": "markdown",
   "metadata": {
    "pycharm": {
     "name": "#%% md\n"
    }
   },
   "source": [
    "## Preprocess the features\n",
    "\n",
    "However, before we train the machine learning model, we need to transform our features into numerical values so that the machine learning model can understand the data. In this case, we will use: \n",
    "\n",
    "- The **MinMaxScaler()** method from scikit-learn to scale the minimum and maximum values to be 0 and 1, respectively, for the columns with int64 and float64 data types.\n",
    "- The **get_dummies()** method from pandas to convert categorical variables into indicator variables. These variables will have a value of 0 or 1. This method can automatically identify categorical variables and convert them into indicator variables with a value of 0 or 1."
   ]
  },
  {
   "cell_type": "code",
   "execution_count": 20,
   "metadata": {
    "ExecuteTime": {
     "end_time": "2024-01-17T09:15:51.059514Z",
     "start_time": "2024-01-17T09:15:51.056570Z"
    },
    "pycharm": {
     "name": "#%%\n"
    }
   },
   "outputs": [],
   "source": [
    "#Scale the numerical columns with MinMaxScaler() \n",
    "X[\"ApplicantIncome\"] = MinMaxScaler().fit_transform(X[\"ApplicantIncome\"].values.reshape(-1,1))\n",
    "X[\"LoanAmount\"] = MinMaxScaler().fit_transform(X[\"LoanAmount\"].values.reshape(-1,1))\n",
    "X[\"CoapplicantIncome\"] = MinMaxScaler().fit_transform(X[\"CoapplicantIncome\"].values.reshape(-1,1))\n",
    "X[\"Loan_Amount_Term\"] = MinMaxScaler().fit_transform(X[\"Loan_Amount_Term\"].values.reshape(-1,1))"
   ]
  },
  {
   "cell_type": "code",
   "execution_count": 21,
   "metadata": {
    "ExecuteTime": {
     "end_time": "2024-01-17T09:15:51.064625Z",
     "start_time": "2024-01-17T09:15:51.060302Z"
    }
   },
   "outputs": [],
   "source": [
    "#Change categorical features to numerical with get_dummies() \n",
    "X = pd.get_dummies(X)\n",
    "\n",
    "#Convert the DataFrame to a NumPy array. \n",
    "X = X.to_numpy()"
   ]
  },
  {
   "attachments": {},
   "cell_type": "markdown",
   "metadata": {
    "pycharm": {
     "name": "#%% md\n"
    }
   },
   "source": [
    "## Train a base machine learning model\n",
    "\n",
    "In this example,we will train the random forest algorithm with default hyperparameter values using the cross-validation technique to check the model performance.\n"
   ]
  },
  {
   "cell_type": "code",
   "execution_count": 22,
   "metadata": {
    "ExecuteTime": {
     "end_time": "2024-01-17T09:15:51.067051Z",
     "start_time": "2024-01-17T09:15:51.065470Z"
    },
    "pycharm": {
     "name": "#%%\n"
    }
   },
   "outputs": [],
   "source": [
    "# Create a classifier\n",
    "random_classifier = RandomForestClassifier(random_state=987)"
   ]
  },
  {
   "attachments": {},
   "cell_type": "markdown",
   "metadata": {},
   "source": [
    "## Preprocess the features\n",
    "\n",
    "However, before we train the machine learning model, we need to transform our features into numerical values so that the machine learning model can understand the data. In this case, we will use: \n",
    "\n",
    "- The **MinMaxScaler()** method from scikit-learn to scale the minimum and maximum values to be 0 and 1, respectively, for the columns with int64 and float64 data types.\n",
    "- The **get_dummies()** method from pandas to convert categorical variables into indicator variables. These variables will have a value of 0 or 1. This method can automatically identify categorical variables and convert them into indicator variables with a value of 0 or 1."
   ]
  },
  {
   "cell_type": "code",
   "execution_count": 23,
   "metadata": {
    "ExecuteTime": {
     "end_time": "2024-01-17T09:15:51.723228Z",
     "start_time": "2024-01-17T09:15:51.067793Z"
    }
   },
   "outputs": [
    {
     "name": "stdout",
     "output_type": "stream",
     "text": [
      "0.7157\n"
     ]
    }
   ],
   "source": [
    "# Define function to evaluate f1_score\n",
    "def f1_scorer(estimator, X, y):\n",
    "    y_preds = estimator.predict(X)\n",
    "    f1 = f1_score(y, y_preds, average='macro')\n",
    "    return round(f1, 4)\n",
    "\n",
    "\n",
    "# Implement and run the cross-val-score method\n",
    "score = cross_val_score(estimator=random_classifier,\n",
    "                        X=X,\n",
    "                        y=y,\n",
    "                        scoring=f1_scorer,\n",
    "                        cv=3,\n",
    "                        n_jobs=-1)\n",
    "\n",
    "# Print the mean score\n",
    "print(round(score.mean(), 4))"
   ]
  },
  {
   "attachments": {},
   "cell_type": "markdown",
   "metadata": {
    "pycharm": {
     "name": "#%% md\n"
    }
   },
   "source": [
    "The mean score of our machine learning model is 0.7157 which is a good performance."
   ]
  },
  {
   "attachments": {},
   "cell_type": "markdown",
   "metadata": {
    "pycharm": {
     "name": "#%% md\n"
    }
   },
   "source": [
    "## Implement the grid search method\n",
    "\n",
    "Because we know how well the machine learning model works with the default hyperparameter values, we can try to improve the model’s performance using the grid search method to find the combination of hyperparameter values that can give an F1-score of more than 0.7157.\n",
    "\n",
    "The random forest algorithm has multiple hyperparameters, as shown below:\n",
    "\n",
    "`RandomForestClassifier(n_estimators=100, *, criterion='gini', max_depth=None, min_samples_split=2, min_samples_leaf=1, min_weight_fraction_leaf=0.0, max_features='sqrt', max_leaf_nodes=None, min_impurity_decrease=0.0, bootstrap=True, oob_score=False, n_jobs=None, random_state=None, verbose=0, warm_start=False, class_weight=None, ccp_alpha=0.0, max_samples=None)` [source](https://scikit-learn.org/stable/modules/generated/sklearn.ensemble.RandomForestClassifier.html)\n",
    "\n",
    "However, for this example, we will use the following important hyperparameters to find the right combination of their values to get an F1-score greater than 0.7157.\n",
    "\n",
    "- `n_estimators`: Represents the number of trees in the forest\n",
    "- `criterion`: The function to measure the quality of a split\n",
    "- `max_depth`: The maximum depth of the tree\n",
    "- min_samples_leaf: The minimum number of samples required to be at a leaf node\n",
    "- `min_samples_split`: The minimum number of samples required to split an internal node"
   ]
  },
  {
   "attachments": {},
   "cell_type": "markdown",
   "metadata": {
    "pycharm": {
     "name": "#%% md\n"
    }
   },
   "source": [
    "To implement the grid search method using the scikit-learn library, we need to define the following important parameters.\n",
    "\n",
    "- `estimator`: The machine learning algorithm to train with different combinations of\n",
    "hyperparameter's values\n",
    "- `param_grid`: The dictionary with parameter names (string value) as keys and distributions or lists of parameters to try (search space)\n",
    "- `scoring`: The method to evaluate the performance of the cross-validated model. For this example, we will use the F1-score.\n",
    "- `CV`: Thhe number of folds for cross-validation. The standard numbers are 5 and 10."
   ]
  },
  {
   "cell_type": "code",
   "execution_count": 24,
   "metadata": {
    "ExecuteTime": {
     "end_time": "2024-01-17T09:15:51.732644Z",
     "start_time": "2024-01-17T09:15:51.724620Z"
    },
    "pycharm": {
     "name": "#%%\n"
    }
   },
   "outputs": [],
   "source": [
    "# Define the parameters for grid search method\n",
    "\n",
    "#1. Estimator\n",
    "random_classifier = RandomForestClassifier(random_state=987)\n",
    "\n",
    "#2. Param distributions (define the search space)\n",
    "distributions = dict(n_estimators=[50, 100, 200],\n",
    "                     criterion=['gini', 'entropy','log_loss'],\n",
    "                     max_depth=[10, 20, 30, 40, 50],\n",
    "                     n_jobs=[-1],\n",
    "                     min_samples_leaf=[1, 2, 3, 5, 6])\n",
    "\n",
    "#4. Scoring\n",
    "scoring = f1_scorer\n",
    "\n",
    "#5. Cross-validation splitting strategy\n",
    "cv = 3"
   ]
  },
  {
   "attachments": {},
   "cell_type": "markdown",
   "metadata": {
    "pycharm": {
     "name": "#%% md\n"
    }
   },
   "source": [
    "Note: We need to read the algorithm documentation to understand the function of each hyperparameter and the types of values we can add to the params distribution. For the random forest algorithm, we can read [here](https://scikit-learn.org/stable/modules/generated/sklearn.ensemble.RandomForestClassifier.html).\n",
    "\n",
    "The next step is to import `GridSearchCV` from the scikit-learn library and  instantiate the\n",
    "grid search."
   ]
  },
  {
   "cell_type": "code",
   "execution_count": 25,
   "metadata": {
    "ExecuteTime": {
     "end_time": "2024-01-17T09:15:51.741795Z",
     "start_time": "2024-01-17T09:15:51.733414Z"
    },
    "pycharm": {
     "name": "#%%\n"
    }
   },
   "outputs": [],
   "source": [
    "# Import the grid search method from the scikit learn\n",
    "from sklearn.model_selection import GridSearchCV\n",
    "\n",
    "# Define search\n",
    "search = GridSearchCV(estimator=random_classifier,\n",
    "                      param_grid=distributions,\n",
    "                      scoring=scoring,\n",
    "                      cv=cv,\n",
    "                      verbose=2)"
   ]
  },
  {
   "attachments": {},
   "cell_type": "markdown",
   "metadata": {
    "pycharm": {
     "name": "#%% md\n"
    }
   },
   "source": [
    "Once everything has been defined, the search is executed by using the fit() method with the training dataset."
   ]
  },
  {
   "cell_type": "code",
   "execution_count": 26,
   "metadata": {
    "ExecuteTime": {
     "end_time": "2024-01-17T09:16:34.311249Z",
     "start_time": "2024-01-17T09:15:51.742614Z"
    },
    "pycharm": {
     "name": "#%%\n"
    }
   },
   "outputs": [
    {
     "name": "stdout",
     "output_type": "stream",
     "text": [
      "Fitting 3 folds for each of 225 candidates, totalling 675 fits\n",
      "[CV] END criterion=gini, max_depth=10, min_samples_leaf=1, n_estimators=50, n_jobs=-1; total time=   0.1s\n",
      "[CV] END criterion=gini, max_depth=10, min_samples_leaf=1, n_estimators=50, n_jobs=-1; total time=   0.1s\n",
      "[CV] END criterion=gini, max_depth=10, min_samples_leaf=1, n_estimators=50, n_jobs=-1; total time=   0.1s\n",
      "[CV] END criterion=gini, max_depth=10, min_samples_leaf=1, n_estimators=100, n_jobs=-1; total time=   0.1s\n",
      "[CV] END criterion=gini, max_depth=10, min_samples_leaf=1, n_estimators=100, n_jobs=-1; total time=   0.1s\n",
      "[CV] END criterion=gini, max_depth=10, min_samples_leaf=1, n_estimators=100, n_jobs=-1; total time=   0.1s\n",
      "[CV] END criterion=gini, max_depth=10, min_samples_leaf=1, n_estimators=200, n_jobs=-1; total time=   0.3s\n",
      "[CV] END criterion=gini, max_depth=10, min_samples_leaf=1, n_estimators=200, n_jobs=-1; total time=   0.3s\n",
      "[CV] END criterion=gini, max_depth=10, min_samples_leaf=1, n_estimators=200, n_jobs=-1; total time=   0.3s\n",
      "[CV] END criterion=gini, max_depth=10, min_samples_leaf=2, n_estimators=50, n_jobs=-1; total time=   0.1s\n",
      "[CV] END criterion=gini, max_depth=10, min_samples_leaf=2, n_estimators=50, n_jobs=-1; total time=   0.1s\n",
      "[CV] END criterion=gini, max_depth=10, min_samples_leaf=2, n_estimators=50, n_jobs=-1; total time=   0.1s\n",
      "[CV] END criterion=gini, max_depth=10, min_samples_leaf=2, n_estimators=100, n_jobs=-1; total time=   0.1s\n",
      "[CV] END criterion=gini, max_depth=10, min_samples_leaf=2, n_estimators=100, n_jobs=-1; total time=   0.1s\n",
      "[CV] END criterion=gini, max_depth=10, min_samples_leaf=2, n_estimators=100, n_jobs=-1; total time=   0.1s\n",
      "[CV] END criterion=gini, max_depth=10, min_samples_leaf=2, n_estimators=200, n_jobs=-1; total time=   0.3s\n",
      "[CV] END criterion=gini, max_depth=10, min_samples_leaf=2, n_estimators=200, n_jobs=-1; total time=   0.3s\n",
      "[CV] END criterion=gini, max_depth=10, min_samples_leaf=2, n_estimators=200, n_jobs=-1; total time=   0.3s\n",
      "[CV] END criterion=gini, max_depth=10, min_samples_leaf=3, n_estimators=50, n_jobs=-1; total time=   0.1s\n",
      "[CV] END criterion=gini, max_depth=10, min_samples_leaf=3, n_estimators=50, n_jobs=-1; total time=   0.1s\n",
      "[CV] END criterion=gini, max_depth=10, min_samples_leaf=3, n_estimators=50, n_jobs=-1; total time=   0.1s\n",
      "[CV] END criterion=gini, max_depth=10, min_samples_leaf=3, n_estimators=100, n_jobs=-1; total time=   0.1s\n",
      "[CV] END criterion=gini, max_depth=10, min_samples_leaf=3, n_estimators=100, n_jobs=-1; total time=   0.1s\n",
      "[CV] END criterion=gini, max_depth=10, min_samples_leaf=3, n_estimators=100, n_jobs=-1; total time=   0.1s\n",
      "[CV] END criterion=gini, max_depth=10, min_samples_leaf=3, n_estimators=200, n_jobs=-1; total time=   0.3s\n",
      "[CV] END criterion=gini, max_depth=10, min_samples_leaf=3, n_estimators=200, n_jobs=-1; total time=   0.3s\n",
      "[CV] END criterion=gini, max_depth=10, min_samples_leaf=3, n_estimators=200, n_jobs=-1; total time=   0.3s\n",
      "[CV] END criterion=gini, max_depth=10, min_samples_leaf=5, n_estimators=50, n_jobs=-1; total time=   0.1s\n",
      "[CV] END criterion=gini, max_depth=10, min_samples_leaf=5, n_estimators=50, n_jobs=-1; total time=   0.1s\n",
      "[CV] END criterion=gini, max_depth=10, min_samples_leaf=5, n_estimators=50, n_jobs=-1; total time=   0.1s\n",
      "[CV] END criterion=gini, max_depth=10, min_samples_leaf=5, n_estimators=100, n_jobs=-1; total time=   0.1s\n",
      "[CV] END criterion=gini, max_depth=10, min_samples_leaf=5, n_estimators=100, n_jobs=-1; total time=   0.1s\n",
      "[CV] END criterion=gini, max_depth=10, min_samples_leaf=5, n_estimators=100, n_jobs=-1; total time=   0.1s\n",
      "[CV] END criterion=gini, max_depth=10, min_samples_leaf=5, n_estimators=200, n_jobs=-1; total time=   0.3s\n",
      "[CV] END criterion=gini, max_depth=10, min_samples_leaf=5, n_estimators=200, n_jobs=-1; total time=   0.3s\n",
      "[CV] END criterion=gini, max_depth=10, min_samples_leaf=5, n_estimators=200, n_jobs=-1; total time=   0.3s\n",
      "[CV] END criterion=gini, max_depth=10, min_samples_leaf=6, n_estimators=50, n_jobs=-1; total time=   0.1s\n",
      "[CV] END criterion=gini, max_depth=10, min_samples_leaf=6, n_estimators=50, n_jobs=-1; total time=   0.1s\n",
      "[CV] END criterion=gini, max_depth=10, min_samples_leaf=6, n_estimators=50, n_jobs=-1; total time=   0.1s\n",
      "[CV] END criterion=gini, max_depth=10, min_samples_leaf=6, n_estimators=100, n_jobs=-1; total time=   0.1s\n",
      "[CV] END criterion=gini, max_depth=10, min_samples_leaf=6, n_estimators=100, n_jobs=-1; total time=   0.1s\n",
      "[CV] END criterion=gini, max_depth=10, min_samples_leaf=6, n_estimators=100, n_jobs=-1; total time=   0.1s\n",
      "[CV] END criterion=gini, max_depth=10, min_samples_leaf=6, n_estimators=200, n_jobs=-1; total time=   0.3s\n",
      "[CV] END criterion=gini, max_depth=10, min_samples_leaf=6, n_estimators=200, n_jobs=-1; total time=   0.3s\n",
      "[CV] END criterion=gini, max_depth=10, min_samples_leaf=6, n_estimators=200, n_jobs=-1; total time=   0.3s\n",
      "[CV] END criterion=gini, max_depth=20, min_samples_leaf=1, n_estimators=50, n_jobs=-1; total time=   0.1s\n",
      "[CV] END criterion=gini, max_depth=20, min_samples_leaf=1, n_estimators=50, n_jobs=-1; total time=   0.1s\n",
      "[CV] END criterion=gini, max_depth=20, min_samples_leaf=1, n_estimators=50, n_jobs=-1; total time=   0.1s\n",
      "[CV] END criterion=gini, max_depth=20, min_samples_leaf=1, n_estimators=100, n_jobs=-1; total time=   0.2s\n",
      "[CV] END criterion=gini, max_depth=20, min_samples_leaf=1, n_estimators=100, n_jobs=-1; total time=   0.1s\n",
      "[CV] END criterion=gini, max_depth=20, min_samples_leaf=1, n_estimators=100, n_jobs=-1; total time=   0.1s\n",
      "[CV] END criterion=gini, max_depth=20, min_samples_leaf=1, n_estimators=200, n_jobs=-1; total time=   0.3s\n",
      "[CV] END criterion=gini, max_depth=20, min_samples_leaf=1, n_estimators=200, n_jobs=-1; total time=   0.3s\n",
      "[CV] END criterion=gini, max_depth=20, min_samples_leaf=1, n_estimators=200, n_jobs=-1; total time=   0.3s\n",
      "[CV] END criterion=gini, max_depth=20, min_samples_leaf=2, n_estimators=50, n_jobs=-1; total time=   0.1s\n",
      "[CV] END criterion=gini, max_depth=20, min_samples_leaf=2, n_estimators=50, n_jobs=-1; total time=   0.1s\n",
      "[CV] END criterion=gini, max_depth=20, min_samples_leaf=2, n_estimators=50, n_jobs=-1; total time=   0.1s\n",
      "[CV] END criterion=gini, max_depth=20, min_samples_leaf=2, n_estimators=100, n_jobs=-1; total time=   0.1s\n",
      "[CV] END criterion=gini, max_depth=20, min_samples_leaf=2, n_estimators=100, n_jobs=-1; total time=   0.1s\n",
      "[CV] END criterion=gini, max_depth=20, min_samples_leaf=2, n_estimators=100, n_jobs=-1; total time=   0.1s\n",
      "[CV] END criterion=gini, max_depth=20, min_samples_leaf=2, n_estimators=200, n_jobs=-1; total time=   0.3s\n",
      "[CV] END criterion=gini, max_depth=20, min_samples_leaf=2, n_estimators=200, n_jobs=-1; total time=   0.3s\n",
      "[CV] END criterion=gini, max_depth=20, min_samples_leaf=2, n_estimators=200, n_jobs=-1; total time=   0.3s\n",
      "[CV] END criterion=gini, max_depth=20, min_samples_leaf=3, n_estimators=50, n_jobs=-1; total time=   0.1s\n",
      "[CV] END criterion=gini, max_depth=20, min_samples_leaf=3, n_estimators=50, n_jobs=-1; total time=   0.1s\n",
      "[CV] END criterion=gini, max_depth=20, min_samples_leaf=3, n_estimators=50, n_jobs=-1; total time=   0.1s\n",
      "[CV] END criterion=gini, max_depth=20, min_samples_leaf=3, n_estimators=100, n_jobs=-1; total time=   0.1s\n",
      "[CV] END criterion=gini, max_depth=20, min_samples_leaf=3, n_estimators=100, n_jobs=-1; total time=   0.1s\n",
      "[CV] END criterion=gini, max_depth=20, min_samples_leaf=3, n_estimators=100, n_jobs=-1; total time=   0.1s\n",
      "[CV] END criterion=gini, max_depth=20, min_samples_leaf=3, n_estimators=200, n_jobs=-1; total time=   0.3s\n",
      "[CV] END criterion=gini, max_depth=20, min_samples_leaf=3, n_estimators=200, n_jobs=-1; total time=   0.3s\n",
      "[CV] END criterion=gini, max_depth=20, min_samples_leaf=3, n_estimators=200, n_jobs=-1; total time=   0.3s\n",
      "[CV] END criterion=gini, max_depth=20, min_samples_leaf=5, n_estimators=50, n_jobs=-1; total time=   0.1s\n",
      "[CV] END criterion=gini, max_depth=20, min_samples_leaf=5, n_estimators=50, n_jobs=-1; total time=   0.1s\n",
      "[CV] END criterion=gini, max_depth=20, min_samples_leaf=5, n_estimators=50, n_jobs=-1; total time=   0.1s\n",
      "[CV] END criterion=gini, max_depth=20, min_samples_leaf=5, n_estimators=100, n_jobs=-1; total time=   0.1s\n",
      "[CV] END criterion=gini, max_depth=20, min_samples_leaf=5, n_estimators=100, n_jobs=-1; total time=   0.1s\n",
      "[CV] END criterion=gini, max_depth=20, min_samples_leaf=5, n_estimators=100, n_jobs=-1; total time=   0.1s\n",
      "[CV] END criterion=gini, max_depth=20, min_samples_leaf=5, n_estimators=200, n_jobs=-1; total time=   0.3s\n",
      "[CV] END criterion=gini, max_depth=20, min_samples_leaf=5, n_estimators=200, n_jobs=-1; total time=   0.3s\n",
      "[CV] END criterion=gini, max_depth=20, min_samples_leaf=5, n_estimators=200, n_jobs=-1; total time=   0.3s\n",
      "[CV] END criterion=gini, max_depth=20, min_samples_leaf=6, n_estimators=50, n_jobs=-1; total time=   0.1s\n",
      "[CV] END criterion=gini, max_depth=20, min_samples_leaf=6, n_estimators=50, n_jobs=-1; total time=   0.1s\n",
      "[CV] END criterion=gini, max_depth=20, min_samples_leaf=6, n_estimators=50, n_jobs=-1; total time=   0.1s\n",
      "[CV] END criterion=gini, max_depth=20, min_samples_leaf=6, n_estimators=100, n_jobs=-1; total time=   0.1s\n",
      "[CV] END criterion=gini, max_depth=20, min_samples_leaf=6, n_estimators=100, n_jobs=-1; total time=   0.1s\n",
      "[CV] END criterion=gini, max_depth=20, min_samples_leaf=6, n_estimators=100, n_jobs=-1; total time=   0.1s\n",
      "[CV] END criterion=gini, max_depth=20, min_samples_leaf=6, n_estimators=200, n_jobs=-1; total time=   0.3s\n",
      "[CV] END criterion=gini, max_depth=20, min_samples_leaf=6, n_estimators=200, n_jobs=-1; total time=   0.3s\n",
      "[CV] END criterion=gini, max_depth=20, min_samples_leaf=6, n_estimators=200, n_jobs=-1; total time=   0.3s\n",
      "[CV] END criterion=gini, max_depth=30, min_samples_leaf=1, n_estimators=50, n_jobs=-1; total time=   0.1s\n",
      "[CV] END criterion=gini, max_depth=30, min_samples_leaf=1, n_estimators=50, n_jobs=-1; total time=   0.1s\n",
      "[CV] END criterion=gini, max_depth=30, min_samples_leaf=1, n_estimators=50, n_jobs=-1; total time=   0.1s\n",
      "[CV] END criterion=gini, max_depth=30, min_samples_leaf=1, n_estimators=100, n_jobs=-1; total time=   0.1s\n",
      "[CV] END criterion=gini, max_depth=30, min_samples_leaf=1, n_estimators=100, n_jobs=-1; total time=   0.1s\n",
      "[CV] END criterion=gini, max_depth=30, min_samples_leaf=1, n_estimators=100, n_jobs=-1; total time=   0.1s\n",
      "[CV] END criterion=gini, max_depth=30, min_samples_leaf=1, n_estimators=200, n_jobs=-1; total time=   0.3s\n",
      "[CV] END criterion=gini, max_depth=30, min_samples_leaf=1, n_estimators=200, n_jobs=-1; total time=   0.3s\n",
      "[CV] END criterion=gini, max_depth=30, min_samples_leaf=1, n_estimators=200, n_jobs=-1; total time=   0.3s\n",
      "[CV] END criterion=gini, max_depth=30, min_samples_leaf=2, n_estimators=50, n_jobs=-1; total time=   0.1s\n",
      "[CV] END criterion=gini, max_depth=30, min_samples_leaf=2, n_estimators=50, n_jobs=-1; total time=   0.1s\n",
      "[CV] END criterion=gini, max_depth=30, min_samples_leaf=2, n_estimators=50, n_jobs=-1; total time=   0.1s\n",
      "[CV] END criterion=gini, max_depth=30, min_samples_leaf=2, n_estimators=100, n_jobs=-1; total time=   0.1s\n",
      "[CV] END criterion=gini, max_depth=30, min_samples_leaf=2, n_estimators=100, n_jobs=-1; total time=   0.1s\n",
      "[CV] END criterion=gini, max_depth=30, min_samples_leaf=2, n_estimators=100, n_jobs=-1; total time=   0.1s\n",
      "[CV] END criterion=gini, max_depth=30, min_samples_leaf=2, n_estimators=200, n_jobs=-1; total time=   0.3s\n",
      "[CV] END criterion=gini, max_depth=30, min_samples_leaf=2, n_estimators=200, n_jobs=-1; total time=   0.3s\n",
      "[CV] END criterion=gini, max_depth=30, min_samples_leaf=2, n_estimators=200, n_jobs=-1; total time=   0.3s\n",
      "[CV] END criterion=gini, max_depth=30, min_samples_leaf=3, n_estimators=50, n_jobs=-1; total time=   0.1s\n",
      "[CV] END criterion=gini, max_depth=30, min_samples_leaf=3, n_estimators=50, n_jobs=-1; total time=   0.1s\n",
      "[CV] END criterion=gini, max_depth=30, min_samples_leaf=3, n_estimators=50, n_jobs=-1; total time=   0.1s\n",
      "[CV] END criterion=gini, max_depth=30, min_samples_leaf=3, n_estimators=100, n_jobs=-1; total time=   0.1s\n",
      "[CV] END criterion=gini, max_depth=30, min_samples_leaf=3, n_estimators=100, n_jobs=-1; total time=   0.1s\n",
      "[CV] END criterion=gini, max_depth=30, min_samples_leaf=3, n_estimators=100, n_jobs=-1; total time=   0.1s\n",
      "[CV] END criterion=gini, max_depth=30, min_samples_leaf=3, n_estimators=200, n_jobs=-1; total time=   0.3s\n",
      "[CV] END criterion=gini, max_depth=30, min_samples_leaf=3, n_estimators=200, n_jobs=-1; total time=   0.3s\n",
      "[CV] END criterion=gini, max_depth=30, min_samples_leaf=3, n_estimators=200, n_jobs=-1; total time=   0.3s\n",
      "[CV] END criterion=gini, max_depth=30, min_samples_leaf=5, n_estimators=50, n_jobs=-1; total time=   0.1s\n",
      "[CV] END criterion=gini, max_depth=30, min_samples_leaf=5, n_estimators=50, n_jobs=-1; total time=   0.1s\n",
      "[CV] END criterion=gini, max_depth=30, min_samples_leaf=5, n_estimators=50, n_jobs=-1; total time=   0.1s\n",
      "[CV] END criterion=gini, max_depth=30, min_samples_leaf=5, n_estimators=100, n_jobs=-1; total time=   0.1s\n",
      "[CV] END criterion=gini, max_depth=30, min_samples_leaf=5, n_estimators=100, n_jobs=-1; total time=   0.1s\n",
      "[CV] END criterion=gini, max_depth=30, min_samples_leaf=5, n_estimators=100, n_jobs=-1; total time=   0.1s\n",
      "[CV] END criterion=gini, max_depth=30, min_samples_leaf=5, n_estimators=200, n_jobs=-1; total time=   0.3s\n",
      "[CV] END criterion=gini, max_depth=30, min_samples_leaf=5, n_estimators=200, n_jobs=-1; total time=   0.3s\n",
      "[CV] END criterion=gini, max_depth=30, min_samples_leaf=5, n_estimators=200, n_jobs=-1; total time=   0.3s\n",
      "[CV] END criterion=gini, max_depth=30, min_samples_leaf=6, n_estimators=50, n_jobs=-1; total time=   0.1s\n",
      "[CV] END criterion=gini, max_depth=30, min_samples_leaf=6, n_estimators=50, n_jobs=-1; total time=   0.1s\n",
      "[CV] END criterion=gini, max_depth=30, min_samples_leaf=6, n_estimators=50, n_jobs=-1; total time=   0.1s\n",
      "[CV] END criterion=gini, max_depth=30, min_samples_leaf=6, n_estimators=100, n_jobs=-1; total time=   0.1s\n",
      "[CV] END criterion=gini, max_depth=30, min_samples_leaf=6, n_estimators=100, n_jobs=-1; total time=   0.1s\n",
      "[CV] END criterion=gini, max_depth=30, min_samples_leaf=6, n_estimators=100, n_jobs=-1; total time=   0.1s\n",
      "[CV] END criterion=gini, max_depth=30, min_samples_leaf=6, n_estimators=200, n_jobs=-1; total time=   0.3s\n",
      "[CV] END criterion=gini, max_depth=30, min_samples_leaf=6, n_estimators=200, n_jobs=-1; total time=   0.3s\n",
      "[CV] END criterion=gini, max_depth=30, min_samples_leaf=6, n_estimators=200, n_jobs=-1; total time=   0.3s\n",
      "[CV] END criterion=gini, max_depth=40, min_samples_leaf=1, n_estimators=50, n_jobs=-1; total time=   0.1s\n",
      "[CV] END criterion=gini, max_depth=40, min_samples_leaf=1, n_estimators=50, n_jobs=-1; total time=   0.1s\n",
      "[CV] END criterion=gini, max_depth=40, min_samples_leaf=1, n_estimators=50, n_jobs=-1; total time=   0.1s\n",
      "[CV] END criterion=gini, max_depth=40, min_samples_leaf=1, n_estimators=100, n_jobs=-1; total time=   0.1s\n",
      "[CV] END criterion=gini, max_depth=40, min_samples_leaf=1, n_estimators=100, n_jobs=-1; total time=   0.1s\n",
      "[CV] END criterion=gini, max_depth=40, min_samples_leaf=1, n_estimators=100, n_jobs=-1; total time=   0.1s\n",
      "[CV] END criterion=gini, max_depth=40, min_samples_leaf=1, n_estimators=200, n_jobs=-1; total time=   0.3s\n",
      "[CV] END criterion=gini, max_depth=40, min_samples_leaf=1, n_estimators=200, n_jobs=-1; total time=   0.3s\n",
      "[CV] END criterion=gini, max_depth=40, min_samples_leaf=1, n_estimators=200, n_jobs=-1; total time=   0.3s\n",
      "[CV] END criterion=gini, max_depth=40, min_samples_leaf=2, n_estimators=50, n_jobs=-1; total time=   0.1s\n",
      "[CV] END criterion=gini, max_depth=40, min_samples_leaf=2, n_estimators=50, n_jobs=-1; total time=   0.1s\n",
      "[CV] END criterion=gini, max_depth=40, min_samples_leaf=2, n_estimators=50, n_jobs=-1; total time=   0.1s\n",
      "[CV] END criterion=gini, max_depth=40, min_samples_leaf=2, n_estimators=100, n_jobs=-1; total time=   0.1s\n",
      "[CV] END criterion=gini, max_depth=40, min_samples_leaf=2, n_estimators=100, n_jobs=-1; total time=   0.1s\n",
      "[CV] END criterion=gini, max_depth=40, min_samples_leaf=2, n_estimators=100, n_jobs=-1; total time=   0.1s\n",
      "[CV] END criterion=gini, max_depth=40, min_samples_leaf=2, n_estimators=200, n_jobs=-1; total time=   0.3s\n",
      "[CV] END criterion=gini, max_depth=40, min_samples_leaf=2, n_estimators=200, n_jobs=-1; total time=   0.3s\n",
      "[CV] END criterion=gini, max_depth=40, min_samples_leaf=2, n_estimators=200, n_jobs=-1; total time=   0.3s\n",
      "[CV] END criterion=gini, max_depth=40, min_samples_leaf=3, n_estimators=50, n_jobs=-1; total time=   0.1s\n",
      "[CV] END criterion=gini, max_depth=40, min_samples_leaf=3, n_estimators=50, n_jobs=-1; total time=   0.1s\n",
      "[CV] END criterion=gini, max_depth=40, min_samples_leaf=3, n_estimators=50, n_jobs=-1; total time=   0.1s\n",
      "[CV] END criterion=gini, max_depth=40, min_samples_leaf=3, n_estimators=100, n_jobs=-1; total time=   0.1s\n",
      "[CV] END criterion=gini, max_depth=40, min_samples_leaf=3, n_estimators=100, n_jobs=-1; total time=   0.1s\n",
      "[CV] END criterion=gini, max_depth=40, min_samples_leaf=3, n_estimators=100, n_jobs=-1; total time=   0.1s\n",
      "[CV] END criterion=gini, max_depth=40, min_samples_leaf=3, n_estimators=200, n_jobs=-1; total time=   0.3s\n",
      "[CV] END criterion=gini, max_depth=40, min_samples_leaf=3, n_estimators=200, n_jobs=-1; total time=   0.3s\n",
      "[CV] END criterion=gini, max_depth=40, min_samples_leaf=3, n_estimators=200, n_jobs=-1; total time=   0.3s\n",
      "[CV] END criterion=gini, max_depth=40, min_samples_leaf=5, n_estimators=50, n_jobs=-1; total time=   0.1s\n",
      "[CV] END criterion=gini, max_depth=40, min_samples_leaf=5, n_estimators=50, n_jobs=-1; total time=   0.1s\n",
      "[CV] END criterion=gini, max_depth=40, min_samples_leaf=5, n_estimators=50, n_jobs=-1; total time=   0.1s\n",
      "[CV] END criterion=gini, max_depth=40, min_samples_leaf=5, n_estimators=100, n_jobs=-1; total time=   0.1s\n",
      "[CV] END criterion=gini, max_depth=40, min_samples_leaf=5, n_estimators=100, n_jobs=-1; total time=   0.1s\n",
      "[CV] END criterion=gini, max_depth=40, min_samples_leaf=5, n_estimators=100, n_jobs=-1; total time=   0.1s\n",
      "[CV] END criterion=gini, max_depth=40, min_samples_leaf=5, n_estimators=200, n_jobs=-1; total time=   0.3s\n",
      "[CV] END criterion=gini, max_depth=40, min_samples_leaf=5, n_estimators=200, n_jobs=-1; total time=   0.3s\n",
      "[CV] END criterion=gini, max_depth=40, min_samples_leaf=5, n_estimators=200, n_jobs=-1; total time=   0.3s\n",
      "[CV] END criterion=gini, max_depth=40, min_samples_leaf=6, n_estimators=50, n_jobs=-1; total time=   0.1s\n",
      "[CV] END criterion=gini, max_depth=40, min_samples_leaf=6, n_estimators=50, n_jobs=-1; total time=   0.1s\n",
      "[CV] END criterion=gini, max_depth=40, min_samples_leaf=6, n_estimators=50, n_jobs=-1; total time=   0.1s\n",
      "[CV] END criterion=gini, max_depth=40, min_samples_leaf=6, n_estimators=100, n_jobs=-1; total time=   0.1s\n",
      "[CV] END criterion=gini, max_depth=40, min_samples_leaf=6, n_estimators=100, n_jobs=-1; total time=   0.1s\n",
      "[CV] END criterion=gini, max_depth=40, min_samples_leaf=6, n_estimators=100, n_jobs=-1; total time=   0.1s\n",
      "[CV] END criterion=gini, max_depth=40, min_samples_leaf=6, n_estimators=200, n_jobs=-1; total time=   0.3s\n",
      "[CV] END criterion=gini, max_depth=40, min_samples_leaf=6, n_estimators=200, n_jobs=-1; total time=   0.3s\n",
      "[CV] END criterion=gini, max_depth=40, min_samples_leaf=6, n_estimators=200, n_jobs=-1; total time=   0.3s\n",
      "[CV] END criterion=gini, max_depth=50, min_samples_leaf=1, n_estimators=50, n_jobs=-1; total time=   0.1s\n",
      "[CV] END criterion=gini, max_depth=50, min_samples_leaf=1, n_estimators=50, n_jobs=-1; total time=   0.1s\n",
      "[CV] END criterion=gini, max_depth=50, min_samples_leaf=1, n_estimators=50, n_jobs=-1; total time=   0.1s\n",
      "[CV] END criterion=gini, max_depth=50, min_samples_leaf=1, n_estimators=100, n_jobs=-1; total time=   0.1s\n",
      "[CV] END criterion=gini, max_depth=50, min_samples_leaf=1, n_estimators=100, n_jobs=-1; total time=   0.1s\n",
      "[CV] END criterion=gini, max_depth=50, min_samples_leaf=1, n_estimators=100, n_jobs=-1; total time=   0.1s\n",
      "[CV] END criterion=gini, max_depth=50, min_samples_leaf=1, n_estimators=200, n_jobs=-1; total time=   0.3s\n",
      "[CV] END criterion=gini, max_depth=50, min_samples_leaf=1, n_estimators=200, n_jobs=-1; total time=   0.3s\n",
      "[CV] END criterion=gini, max_depth=50, min_samples_leaf=1, n_estimators=200, n_jobs=-1; total time=   0.3s\n",
      "[CV] END criterion=gini, max_depth=50, min_samples_leaf=2, n_estimators=50, n_jobs=-1; total time=   0.1s\n",
      "[CV] END criterion=gini, max_depth=50, min_samples_leaf=2, n_estimators=50, n_jobs=-1; total time=   0.1s\n",
      "[CV] END criterion=gini, max_depth=50, min_samples_leaf=2, n_estimators=50, n_jobs=-1; total time=   0.1s\n",
      "[CV] END criterion=gini, max_depth=50, min_samples_leaf=2, n_estimators=100, n_jobs=-1; total time=   0.1s\n",
      "[CV] END criterion=gini, max_depth=50, min_samples_leaf=2, n_estimators=100, n_jobs=-1; total time=   0.1s\n",
      "[CV] END criterion=gini, max_depth=50, min_samples_leaf=2, n_estimators=100, n_jobs=-1; total time=   0.1s\n",
      "[CV] END criterion=gini, max_depth=50, min_samples_leaf=2, n_estimators=200, n_jobs=-1; total time=   0.3s\n",
      "[CV] END criterion=gini, max_depth=50, min_samples_leaf=2, n_estimators=200, n_jobs=-1; total time=   0.3s\n",
      "[CV] END criterion=gini, max_depth=50, min_samples_leaf=2, n_estimators=200, n_jobs=-1; total time=   0.3s\n",
      "[CV] END criterion=gini, max_depth=50, min_samples_leaf=3, n_estimators=50, n_jobs=-1; total time=   0.1s\n",
      "[CV] END criterion=gini, max_depth=50, min_samples_leaf=3, n_estimators=50, n_jobs=-1; total time=   0.1s\n",
      "[CV] END criterion=gini, max_depth=50, min_samples_leaf=3, n_estimators=50, n_jobs=-1; total time=   0.1s\n",
      "[CV] END criterion=gini, max_depth=50, min_samples_leaf=3, n_estimators=100, n_jobs=-1; total time=   0.1s\n",
      "[CV] END criterion=gini, max_depth=50, min_samples_leaf=3, n_estimators=100, n_jobs=-1; total time=   0.1s\n",
      "[CV] END criterion=gini, max_depth=50, min_samples_leaf=3, n_estimators=100, n_jobs=-1; total time=   0.1s\n",
      "[CV] END criterion=gini, max_depth=50, min_samples_leaf=3, n_estimators=200, n_jobs=-1; total time=   0.3s\n",
      "[CV] END criterion=gini, max_depth=50, min_samples_leaf=3, n_estimators=200, n_jobs=-1; total time=   0.3s\n",
      "[CV] END criterion=gini, max_depth=50, min_samples_leaf=3, n_estimators=200, n_jobs=-1; total time=   0.3s\n",
      "[CV] END criterion=gini, max_depth=50, min_samples_leaf=5, n_estimators=50, n_jobs=-1; total time=   0.1s\n",
      "[CV] END criterion=gini, max_depth=50, min_samples_leaf=5, n_estimators=50, n_jobs=-1; total time=   0.1s\n",
      "[CV] END criterion=gini, max_depth=50, min_samples_leaf=5, n_estimators=50, n_jobs=-1; total time=   0.1s\n",
      "[CV] END criterion=gini, max_depth=50, min_samples_leaf=5, n_estimators=100, n_jobs=-1; total time=   0.1s\n",
      "[CV] END criterion=gini, max_depth=50, min_samples_leaf=5, n_estimators=100, n_jobs=-1; total time=   0.1s\n",
      "[CV] END criterion=gini, max_depth=50, min_samples_leaf=5, n_estimators=100, n_jobs=-1; total time=   0.1s\n",
      "[CV] END criterion=gini, max_depth=50, min_samples_leaf=5, n_estimators=200, n_jobs=-1; total time=   0.3s\n",
      "[CV] END criterion=gini, max_depth=50, min_samples_leaf=5, n_estimators=200, n_jobs=-1; total time=   0.3s\n",
      "[CV] END criterion=gini, max_depth=50, min_samples_leaf=5, n_estimators=200, n_jobs=-1; total time=   0.3s\n",
      "[CV] END criterion=gini, max_depth=50, min_samples_leaf=6, n_estimators=50, n_jobs=-1; total time=   0.1s\n",
      "[CV] END criterion=gini, max_depth=50, min_samples_leaf=6, n_estimators=50, n_jobs=-1; total time=   0.1s\n",
      "[CV] END criterion=gini, max_depth=50, min_samples_leaf=6, n_estimators=50, n_jobs=-1; total time=   0.1s\n",
      "[CV] END criterion=gini, max_depth=50, min_samples_leaf=6, n_estimators=100, n_jobs=-1; total time=   0.1s\n",
      "[CV] END criterion=gini, max_depth=50, min_samples_leaf=6, n_estimators=100, n_jobs=-1; total time=   0.1s\n",
      "[CV] END criterion=gini, max_depth=50, min_samples_leaf=6, n_estimators=100, n_jobs=-1; total time=   0.1s\n",
      "[CV] END criterion=gini, max_depth=50, min_samples_leaf=6, n_estimators=200, n_jobs=-1; total time=   0.3s\n",
      "[CV] END criterion=gini, max_depth=50, min_samples_leaf=6, n_estimators=200, n_jobs=-1; total time=   0.3s\n",
      "[CV] END criterion=gini, max_depth=50, min_samples_leaf=6, n_estimators=200, n_jobs=-1; total time=   0.3s\n",
      "[CV] END criterion=entropy, max_depth=10, min_samples_leaf=1, n_estimators=50, n_jobs=-1; total time=   0.1s\n",
      "[CV] END criterion=entropy, max_depth=10, min_samples_leaf=1, n_estimators=50, n_jobs=-1; total time=   0.1s\n",
      "[CV] END criterion=entropy, max_depth=10, min_samples_leaf=1, n_estimators=50, n_jobs=-1; total time=   0.1s\n",
      "[CV] END criterion=entropy, max_depth=10, min_samples_leaf=1, n_estimators=100, n_jobs=-1; total time=   0.1s\n",
      "[CV] END criterion=entropy, max_depth=10, min_samples_leaf=1, n_estimators=100, n_jobs=-1; total time=   0.1s\n",
      "[CV] END criterion=entropy, max_depth=10, min_samples_leaf=1, n_estimators=100, n_jobs=-1; total time=   0.1s\n",
      "[CV] END criterion=entropy, max_depth=10, min_samples_leaf=1, n_estimators=200, n_jobs=-1; total time=   0.3s\n",
      "[CV] END criterion=entropy, max_depth=10, min_samples_leaf=1, n_estimators=200, n_jobs=-1; total time=   0.3s\n",
      "[CV] END criterion=entropy, max_depth=10, min_samples_leaf=1, n_estimators=200, n_jobs=-1; total time=   0.3s\n",
      "[CV] END criterion=entropy, max_depth=10, min_samples_leaf=2, n_estimators=50, n_jobs=-1; total time=   0.1s\n",
      "[CV] END criterion=entropy, max_depth=10, min_samples_leaf=2, n_estimators=50, n_jobs=-1; total time=   0.1s\n",
      "[CV] END criterion=entropy, max_depth=10, min_samples_leaf=2, n_estimators=50, n_jobs=-1; total time=   0.1s\n",
      "[CV] END criterion=entropy, max_depth=10, min_samples_leaf=2, n_estimators=100, n_jobs=-1; total time=   0.1s\n",
      "[CV] END criterion=entropy, max_depth=10, min_samples_leaf=2, n_estimators=100, n_jobs=-1; total time=   0.1s\n",
      "[CV] END criterion=entropy, max_depth=10, min_samples_leaf=2, n_estimators=100, n_jobs=-1; total time=   0.1s\n",
      "[CV] END criterion=entropy, max_depth=10, min_samples_leaf=2, n_estimators=200, n_jobs=-1; total time=   0.3s\n",
      "[CV] END criterion=entropy, max_depth=10, min_samples_leaf=2, n_estimators=200, n_jobs=-1; total time=   0.3s\n",
      "[CV] END criterion=entropy, max_depth=10, min_samples_leaf=2, n_estimators=200, n_jobs=-1; total time=   0.3s\n",
      "[CV] END criterion=entropy, max_depth=10, min_samples_leaf=3, n_estimators=50, n_jobs=-1; total time=   0.1s\n",
      "[CV] END criterion=entropy, max_depth=10, min_samples_leaf=3, n_estimators=50, n_jobs=-1; total time=   0.1s\n",
      "[CV] END criterion=entropy, max_depth=10, min_samples_leaf=3, n_estimators=50, n_jobs=-1; total time=   0.1s\n",
      "[CV] END criterion=entropy, max_depth=10, min_samples_leaf=3, n_estimators=100, n_jobs=-1; total time=   0.1s\n",
      "[CV] END criterion=entropy, max_depth=10, min_samples_leaf=3, n_estimators=100, n_jobs=-1; total time=   0.1s\n",
      "[CV] END criterion=entropy, max_depth=10, min_samples_leaf=3, n_estimators=100, n_jobs=-1; total time=   0.1s\n",
      "[CV] END criterion=entropy, max_depth=10, min_samples_leaf=3, n_estimators=200, n_jobs=-1; total time=   0.3s\n",
      "[CV] END criterion=entropy, max_depth=10, min_samples_leaf=3, n_estimators=200, n_jobs=-1; total time=   0.3s\n",
      "[CV] END criterion=entropy, max_depth=10, min_samples_leaf=3, n_estimators=200, n_jobs=-1; total time=   0.3s\n",
      "[CV] END criterion=entropy, max_depth=10, min_samples_leaf=5, n_estimators=50, n_jobs=-1; total time=   0.1s\n",
      "[CV] END criterion=entropy, max_depth=10, min_samples_leaf=5, n_estimators=50, n_jobs=-1; total time=   0.1s\n",
      "[CV] END criterion=entropy, max_depth=10, min_samples_leaf=5, n_estimators=50, n_jobs=-1; total time=   0.1s\n",
      "[CV] END criterion=entropy, max_depth=10, min_samples_leaf=5, n_estimators=100, n_jobs=-1; total time=   0.1s\n",
      "[CV] END criterion=entropy, max_depth=10, min_samples_leaf=5, n_estimators=100, n_jobs=-1; total time=   0.1s\n",
      "[CV] END criterion=entropy, max_depth=10, min_samples_leaf=5, n_estimators=100, n_jobs=-1; total time=   0.1s\n",
      "[CV] END criterion=entropy, max_depth=10, min_samples_leaf=5, n_estimators=200, n_jobs=-1; total time=   0.3s\n",
      "[CV] END criterion=entropy, max_depth=10, min_samples_leaf=5, n_estimators=200, n_jobs=-1; total time=   0.3s\n",
      "[CV] END criterion=entropy, max_depth=10, min_samples_leaf=5, n_estimators=200, n_jobs=-1; total time=   0.3s\n",
      "[CV] END criterion=entropy, max_depth=10, min_samples_leaf=6, n_estimators=50, n_jobs=-1; total time=   0.1s\n",
      "[CV] END criterion=entropy, max_depth=10, min_samples_leaf=6, n_estimators=50, n_jobs=-1; total time=   0.1s\n",
      "[CV] END criterion=entropy, max_depth=10, min_samples_leaf=6, n_estimators=50, n_jobs=-1; total time=   0.1s\n",
      "[CV] END criterion=entropy, max_depth=10, min_samples_leaf=6, n_estimators=100, n_jobs=-1; total time=   0.1s\n",
      "[CV] END criterion=entropy, max_depth=10, min_samples_leaf=6, n_estimators=100, n_jobs=-1; total time=   0.1s\n",
      "[CV] END criterion=entropy, max_depth=10, min_samples_leaf=6, n_estimators=100, n_jobs=-1; total time=   0.1s\n",
      "[CV] END criterion=entropy, max_depth=10, min_samples_leaf=6, n_estimators=200, n_jobs=-1; total time=   0.3s\n",
      "[CV] END criterion=entropy, max_depth=10, min_samples_leaf=6, n_estimators=200, n_jobs=-1; total time=   0.3s\n",
      "[CV] END criterion=entropy, max_depth=10, min_samples_leaf=6, n_estimators=200, n_jobs=-1; total time=   0.3s\n",
      "[CV] END criterion=entropy, max_depth=20, min_samples_leaf=1, n_estimators=50, n_jobs=-1; total time=   0.1s\n",
      "[CV] END criterion=entropy, max_depth=20, min_samples_leaf=1, n_estimators=50, n_jobs=-1; total time=   0.1s\n",
      "[CV] END criterion=entropy, max_depth=20, min_samples_leaf=1, n_estimators=50, n_jobs=-1; total time=   0.1s\n",
      "[CV] END criterion=entropy, max_depth=20, min_samples_leaf=1, n_estimators=100, n_jobs=-1; total time=   0.1s\n",
      "[CV] END criterion=entropy, max_depth=20, min_samples_leaf=1, n_estimators=100, n_jobs=-1; total time=   0.2s\n",
      "[CV] END criterion=entropy, max_depth=20, min_samples_leaf=1, n_estimators=100, n_jobs=-1; total time=   0.1s\n",
      "[CV] END criterion=entropy, max_depth=20, min_samples_leaf=1, n_estimators=200, n_jobs=-1; total time=   0.3s\n",
      "[CV] END criterion=entropy, max_depth=20, min_samples_leaf=1, n_estimators=200, n_jobs=-1; total time=   0.3s\n",
      "[CV] END criterion=entropy, max_depth=20, min_samples_leaf=1, n_estimators=200, n_jobs=-1; total time=   0.3s\n",
      "[CV] END criterion=entropy, max_depth=20, min_samples_leaf=2, n_estimators=50, n_jobs=-1; total time=   0.1s\n",
      "[CV] END criterion=entropy, max_depth=20, min_samples_leaf=2, n_estimators=50, n_jobs=-1; total time=   0.1s\n",
      "[CV] END criterion=entropy, max_depth=20, min_samples_leaf=2, n_estimators=50, n_jobs=-1; total time=   0.1s\n",
      "[CV] END criterion=entropy, max_depth=20, min_samples_leaf=2, n_estimators=100, n_jobs=-1; total time=   0.1s\n",
      "[CV] END criterion=entropy, max_depth=20, min_samples_leaf=2, n_estimators=100, n_jobs=-1; total time=   0.1s\n",
      "[CV] END criterion=entropy, max_depth=20, min_samples_leaf=2, n_estimators=100, n_jobs=-1; total time=   0.1s\n",
      "[CV] END criterion=entropy, max_depth=20, min_samples_leaf=2, n_estimators=200, n_jobs=-1; total time=   0.3s\n",
      "[CV] END criterion=entropy, max_depth=20, min_samples_leaf=2, n_estimators=200, n_jobs=-1; total time=   0.3s\n",
      "[CV] END criterion=entropy, max_depth=20, min_samples_leaf=2, n_estimators=200, n_jobs=-1; total time=   0.3s\n",
      "[CV] END criterion=entropy, max_depth=20, min_samples_leaf=3, n_estimators=50, n_jobs=-1; total time=   0.1s\n",
      "[CV] END criterion=entropy, max_depth=20, min_samples_leaf=3, n_estimators=50, n_jobs=-1; total time=   0.1s\n",
      "[CV] END criterion=entropy, max_depth=20, min_samples_leaf=3, n_estimators=50, n_jobs=-1; total time=   0.1s\n",
      "[CV] END criterion=entropy, max_depth=20, min_samples_leaf=3, n_estimators=100, n_jobs=-1; total time=   0.1s\n",
      "[CV] END criterion=entropy, max_depth=20, min_samples_leaf=3, n_estimators=100, n_jobs=-1; total time=   0.1s\n",
      "[CV] END criterion=entropy, max_depth=20, min_samples_leaf=3, n_estimators=100, n_jobs=-1; total time=   0.1s\n",
      "[CV] END criterion=entropy, max_depth=20, min_samples_leaf=3, n_estimators=200, n_jobs=-1; total time=   0.3s\n",
      "[CV] END criterion=entropy, max_depth=20, min_samples_leaf=3, n_estimators=200, n_jobs=-1; total time=   0.3s\n",
      "[CV] END criterion=entropy, max_depth=20, min_samples_leaf=3, n_estimators=200, n_jobs=-1; total time=   0.3s\n",
      "[CV] END criterion=entropy, max_depth=20, min_samples_leaf=5, n_estimators=50, n_jobs=-1; total time=   0.1s\n",
      "[CV] END criterion=entropy, max_depth=20, min_samples_leaf=5, n_estimators=50, n_jobs=-1; total time=   0.1s\n",
      "[CV] END criterion=entropy, max_depth=20, min_samples_leaf=5, n_estimators=50, n_jobs=-1; total time=   0.1s\n",
      "[CV] END criterion=entropy, max_depth=20, min_samples_leaf=5, n_estimators=100, n_jobs=-1; total time=   0.1s\n",
      "[CV] END criterion=entropy, max_depth=20, min_samples_leaf=5, n_estimators=100, n_jobs=-1; total time=   0.1s\n",
      "[CV] END criterion=entropy, max_depth=20, min_samples_leaf=5, n_estimators=100, n_jobs=-1; total time=   0.1s\n",
      "[CV] END criterion=entropy, max_depth=20, min_samples_leaf=5, n_estimators=200, n_jobs=-1; total time=   0.3s\n",
      "[CV] END criterion=entropy, max_depth=20, min_samples_leaf=5, n_estimators=200, n_jobs=-1; total time=   0.3s\n",
      "[CV] END criterion=entropy, max_depth=20, min_samples_leaf=5, n_estimators=200, n_jobs=-1; total time=   0.3s\n",
      "[CV] END criterion=entropy, max_depth=20, min_samples_leaf=6, n_estimators=50, n_jobs=-1; total time=   0.1s\n",
      "[CV] END criterion=entropy, max_depth=20, min_samples_leaf=6, n_estimators=50, n_jobs=-1; total time=   0.1s\n",
      "[CV] END criterion=entropy, max_depth=20, min_samples_leaf=6, n_estimators=50, n_jobs=-1; total time=   0.1s\n",
      "[CV] END criterion=entropy, max_depth=20, min_samples_leaf=6, n_estimators=100, n_jobs=-1; total time=   0.1s\n",
      "[CV] END criterion=entropy, max_depth=20, min_samples_leaf=6, n_estimators=100, n_jobs=-1; total time=   0.1s\n",
      "[CV] END criterion=entropy, max_depth=20, min_samples_leaf=6, n_estimators=100, n_jobs=-1; total time=   0.1s\n",
      "[CV] END criterion=entropy, max_depth=20, min_samples_leaf=6, n_estimators=200, n_jobs=-1; total time=   0.3s\n",
      "[CV] END criterion=entropy, max_depth=20, min_samples_leaf=6, n_estimators=200, n_jobs=-1; total time=   0.3s\n",
      "[CV] END criterion=entropy, max_depth=20, min_samples_leaf=6, n_estimators=200, n_jobs=-1; total time=   0.3s\n",
      "[CV] END criterion=entropy, max_depth=30, min_samples_leaf=1, n_estimators=50, n_jobs=-1; total time=   0.1s\n",
      "[CV] END criterion=entropy, max_depth=30, min_samples_leaf=1, n_estimators=50, n_jobs=-1; total time=   0.1s\n",
      "[CV] END criterion=entropy, max_depth=30, min_samples_leaf=1, n_estimators=50, n_jobs=-1; total time=   0.1s\n",
      "[CV] END criterion=entropy, max_depth=30, min_samples_leaf=1, n_estimators=100, n_jobs=-1; total time=   0.1s\n",
      "[CV] END criterion=entropy, max_depth=30, min_samples_leaf=1, n_estimators=100, n_jobs=-1; total time=   0.2s\n",
      "[CV] END criterion=entropy, max_depth=30, min_samples_leaf=1, n_estimators=100, n_jobs=-1; total time=   0.2s\n",
      "[CV] END criterion=entropy, max_depth=30, min_samples_leaf=1, n_estimators=200, n_jobs=-1; total time=   0.3s\n",
      "[CV] END criterion=entropy, max_depth=30, min_samples_leaf=1, n_estimators=200, n_jobs=-1; total time=   0.3s\n",
      "[CV] END criterion=entropy, max_depth=30, min_samples_leaf=1, n_estimators=200, n_jobs=-1; total time=   0.3s\n",
      "[CV] END criterion=entropy, max_depth=30, min_samples_leaf=2, n_estimators=50, n_jobs=-1; total time=   0.1s\n",
      "[CV] END criterion=entropy, max_depth=30, min_samples_leaf=2, n_estimators=50, n_jobs=-1; total time=   0.1s\n",
      "[CV] END criterion=entropy, max_depth=30, min_samples_leaf=2, n_estimators=50, n_jobs=-1; total time=   0.1s\n",
      "[CV] END criterion=entropy, max_depth=30, min_samples_leaf=2, n_estimators=100, n_jobs=-1; total time=   0.1s\n",
      "[CV] END criterion=entropy, max_depth=30, min_samples_leaf=2, n_estimators=100, n_jobs=-1; total time=   0.1s\n",
      "[CV] END criterion=entropy, max_depth=30, min_samples_leaf=2, n_estimators=100, n_jobs=-1; total time=   0.1s\n",
      "[CV] END criterion=entropy, max_depth=30, min_samples_leaf=2, n_estimators=200, n_jobs=-1; total time=   0.3s\n",
      "[CV] END criterion=entropy, max_depth=30, min_samples_leaf=2, n_estimators=200, n_jobs=-1; total time=   0.3s\n",
      "[CV] END criterion=entropy, max_depth=30, min_samples_leaf=2, n_estimators=200, n_jobs=-1; total time=   0.3s\n",
      "[CV] END criterion=entropy, max_depth=30, min_samples_leaf=3, n_estimators=50, n_jobs=-1; total time=   0.1s\n",
      "[CV] END criterion=entropy, max_depth=30, min_samples_leaf=3, n_estimators=50, n_jobs=-1; total time=   0.1s\n",
      "[CV] END criterion=entropy, max_depth=30, min_samples_leaf=3, n_estimators=50, n_jobs=-1; total time=   0.1s\n",
      "[CV] END criterion=entropy, max_depth=30, min_samples_leaf=3, n_estimators=100, n_jobs=-1; total time=   0.1s\n",
      "[CV] END criterion=entropy, max_depth=30, min_samples_leaf=3, n_estimators=100, n_jobs=-1; total time=   0.1s\n",
      "[CV] END criterion=entropy, max_depth=30, min_samples_leaf=3, n_estimators=100, n_jobs=-1; total time=   0.1s\n",
      "[CV] END criterion=entropy, max_depth=30, min_samples_leaf=3, n_estimators=200, n_jobs=-1; total time=   0.3s\n",
      "[CV] END criterion=entropy, max_depth=30, min_samples_leaf=3, n_estimators=200, n_jobs=-1; total time=   0.3s\n",
      "[CV] END criterion=entropy, max_depth=30, min_samples_leaf=3, n_estimators=200, n_jobs=-1; total time=   0.3s\n",
      "[CV] END criterion=entropy, max_depth=30, min_samples_leaf=5, n_estimators=50, n_jobs=-1; total time=   0.1s\n",
      "[CV] END criterion=entropy, max_depth=30, min_samples_leaf=5, n_estimators=50, n_jobs=-1; total time=   0.1s\n",
      "[CV] END criterion=entropy, max_depth=30, min_samples_leaf=5, n_estimators=50, n_jobs=-1; total time=   0.1s\n",
      "[CV] END criterion=entropy, max_depth=30, min_samples_leaf=5, n_estimators=100, n_jobs=-1; total time=   0.1s\n",
      "[CV] END criterion=entropy, max_depth=30, min_samples_leaf=5, n_estimators=100, n_jobs=-1; total time=   0.1s\n",
      "[CV] END criterion=entropy, max_depth=30, min_samples_leaf=5, n_estimators=100, n_jobs=-1; total time=   0.1s\n",
      "[CV] END criterion=entropy, max_depth=30, min_samples_leaf=5, n_estimators=200, n_jobs=-1; total time=   0.3s\n",
      "[CV] END criterion=entropy, max_depth=30, min_samples_leaf=5, n_estimators=200, n_jobs=-1; total time=   0.3s\n",
      "[CV] END criterion=entropy, max_depth=30, min_samples_leaf=5, n_estimators=200, n_jobs=-1; total time=   0.3s\n",
      "[CV] END criterion=entropy, max_depth=30, min_samples_leaf=6, n_estimators=50, n_jobs=-1; total time=   0.1s\n",
      "[CV] END criterion=entropy, max_depth=30, min_samples_leaf=6, n_estimators=50, n_jobs=-1; total time=   0.1s\n",
      "[CV] END criterion=entropy, max_depth=30, min_samples_leaf=6, n_estimators=50, n_jobs=-1; total time=   0.1s\n",
      "[CV] END criterion=entropy, max_depth=30, min_samples_leaf=6, n_estimators=100, n_jobs=-1; total time=   0.1s\n",
      "[CV] END criterion=entropy, max_depth=30, min_samples_leaf=6, n_estimators=100, n_jobs=-1; total time=   0.1s\n",
      "[CV] END criterion=entropy, max_depth=30, min_samples_leaf=6, n_estimators=100, n_jobs=-1; total time=   0.1s\n",
      "[CV] END criterion=entropy, max_depth=30, min_samples_leaf=6, n_estimators=200, n_jobs=-1; total time=   0.3s\n",
      "[CV] END criterion=entropy, max_depth=30, min_samples_leaf=6, n_estimators=200, n_jobs=-1; total time=   0.3s\n",
      "[CV] END criterion=entropy, max_depth=30, min_samples_leaf=6, n_estimators=200, n_jobs=-1; total time=   0.3s\n",
      "[CV] END criterion=entropy, max_depth=40, min_samples_leaf=1, n_estimators=50, n_jobs=-1; total time=   0.1s\n",
      "[CV] END criterion=entropy, max_depth=40, min_samples_leaf=1, n_estimators=50, n_jobs=-1; total time=   0.1s\n",
      "[CV] END criterion=entropy, max_depth=40, min_samples_leaf=1, n_estimators=50, n_jobs=-1; total time=   0.1s\n",
      "[CV] END criterion=entropy, max_depth=40, min_samples_leaf=1, n_estimators=100, n_jobs=-1; total time=   0.1s\n",
      "[CV] END criterion=entropy, max_depth=40, min_samples_leaf=1, n_estimators=100, n_jobs=-1; total time=   0.2s\n",
      "[CV] END criterion=entropy, max_depth=40, min_samples_leaf=1, n_estimators=100, n_jobs=-1; total time=   0.2s\n",
      "[CV] END criterion=entropy, max_depth=40, min_samples_leaf=1, n_estimators=200, n_jobs=-1; total time=   0.3s\n",
      "[CV] END criterion=entropy, max_depth=40, min_samples_leaf=1, n_estimators=200, n_jobs=-1; total time=   0.3s\n",
      "[CV] END criterion=entropy, max_depth=40, min_samples_leaf=1, n_estimators=200, n_jobs=-1; total time=   0.3s\n",
      "[CV] END criterion=entropy, max_depth=40, min_samples_leaf=2, n_estimators=50, n_jobs=-1; total time=   0.1s\n",
      "[CV] END criterion=entropy, max_depth=40, min_samples_leaf=2, n_estimators=50, n_jobs=-1; total time=   0.1s\n",
      "[CV] END criterion=entropy, max_depth=40, min_samples_leaf=2, n_estimators=50, n_jobs=-1; total time=   0.1s\n",
      "[CV] END criterion=entropy, max_depth=40, min_samples_leaf=2, n_estimators=100, n_jobs=-1; total time=   0.1s\n",
      "[CV] END criterion=entropy, max_depth=40, min_samples_leaf=2, n_estimators=100, n_jobs=-1; total time=   0.1s\n",
      "[CV] END criterion=entropy, max_depth=40, min_samples_leaf=2, n_estimators=100, n_jobs=-1; total time=   0.1s\n",
      "[CV] END criterion=entropy, max_depth=40, min_samples_leaf=2, n_estimators=200, n_jobs=-1; total time=   0.3s\n",
      "[CV] END criterion=entropy, max_depth=40, min_samples_leaf=2, n_estimators=200, n_jobs=-1; total time=   0.3s\n",
      "[CV] END criterion=entropy, max_depth=40, min_samples_leaf=2, n_estimators=200, n_jobs=-1; total time=   0.3s\n",
      "[CV] END criterion=entropy, max_depth=40, min_samples_leaf=3, n_estimators=50, n_jobs=-1; total time=   0.1s\n",
      "[CV] END criterion=entropy, max_depth=40, min_samples_leaf=3, n_estimators=50, n_jobs=-1; total time=   0.1s\n",
      "[CV] END criterion=entropy, max_depth=40, min_samples_leaf=3, n_estimators=50, n_jobs=-1; total time=   0.1s\n",
      "[CV] END criterion=entropy, max_depth=40, min_samples_leaf=3, n_estimators=100, n_jobs=-1; total time=   0.1s\n",
      "[CV] END criterion=entropy, max_depth=40, min_samples_leaf=3, n_estimators=100, n_jobs=-1; total time=   0.1s\n",
      "[CV] END criterion=entropy, max_depth=40, min_samples_leaf=3, n_estimators=100, n_jobs=-1; total time=   0.1s\n",
      "[CV] END criterion=entropy, max_depth=40, min_samples_leaf=3, n_estimators=200, n_jobs=-1; total time=   0.3s\n",
      "[CV] END criterion=entropy, max_depth=40, min_samples_leaf=3, n_estimators=200, n_jobs=-1; total time=   0.3s\n",
      "[CV] END criterion=entropy, max_depth=40, min_samples_leaf=3, n_estimators=200, n_jobs=-1; total time=   0.3s\n",
      "[CV] END criterion=entropy, max_depth=40, min_samples_leaf=5, n_estimators=50, n_jobs=-1; total time=   0.1s\n",
      "[CV] END criterion=entropy, max_depth=40, min_samples_leaf=5, n_estimators=50, n_jobs=-1; total time=   0.1s\n",
      "[CV] END criterion=entropy, max_depth=40, min_samples_leaf=5, n_estimators=50, n_jobs=-1; total time=   0.1s\n",
      "[CV] END criterion=entropy, max_depth=40, min_samples_leaf=5, n_estimators=100, n_jobs=-1; total time=   0.1s\n",
      "[CV] END criterion=entropy, max_depth=40, min_samples_leaf=5, n_estimators=100, n_jobs=-1; total time=   0.1s\n",
      "[CV] END criterion=entropy, max_depth=40, min_samples_leaf=5, n_estimators=100, n_jobs=-1; total time=   0.1s\n",
      "[CV] END criterion=entropy, max_depth=40, min_samples_leaf=5, n_estimators=200, n_jobs=-1; total time=   0.3s\n",
      "[CV] END criterion=entropy, max_depth=40, min_samples_leaf=5, n_estimators=200, n_jobs=-1; total time=   0.3s\n",
      "[CV] END criterion=entropy, max_depth=40, min_samples_leaf=5, n_estimators=200, n_jobs=-1; total time=   0.3s\n",
      "[CV] END criterion=entropy, max_depth=40, min_samples_leaf=6, n_estimators=50, n_jobs=-1; total time=   0.1s\n",
      "[CV] END criterion=entropy, max_depth=40, min_samples_leaf=6, n_estimators=50, n_jobs=-1; total time=   0.1s\n",
      "[CV] END criterion=entropy, max_depth=40, min_samples_leaf=6, n_estimators=50, n_jobs=-1; total time=   0.1s\n",
      "[CV] END criterion=entropy, max_depth=40, min_samples_leaf=6, n_estimators=100, n_jobs=-1; total time=   0.1s\n",
      "[CV] END criterion=entropy, max_depth=40, min_samples_leaf=6, n_estimators=100, n_jobs=-1; total time=   0.1s\n",
      "[CV] END criterion=entropy, max_depth=40, min_samples_leaf=6, n_estimators=100, n_jobs=-1; total time=   0.1s\n",
      "[CV] END criterion=entropy, max_depth=40, min_samples_leaf=6, n_estimators=200, n_jobs=-1; total time=   0.3s\n",
      "[CV] END criterion=entropy, max_depth=40, min_samples_leaf=6, n_estimators=200, n_jobs=-1; total time=   0.3s\n",
      "[CV] END criterion=entropy, max_depth=40, min_samples_leaf=6, n_estimators=200, n_jobs=-1; total time=   0.3s\n",
      "[CV] END criterion=entropy, max_depth=50, min_samples_leaf=1, n_estimators=50, n_jobs=-1; total time=   0.1s\n",
      "[CV] END criterion=entropy, max_depth=50, min_samples_leaf=1, n_estimators=50, n_jobs=-1; total time=   0.1s\n",
      "[CV] END criterion=entropy, max_depth=50, min_samples_leaf=1, n_estimators=50, n_jobs=-1; total time=   0.1s\n",
      "[CV] END criterion=entropy, max_depth=50, min_samples_leaf=1, n_estimators=100, n_jobs=-1; total time=   0.2s\n",
      "[CV] END criterion=entropy, max_depth=50, min_samples_leaf=1, n_estimators=100, n_jobs=-1; total time=   0.2s\n",
      "[CV] END criterion=entropy, max_depth=50, min_samples_leaf=1, n_estimators=100, n_jobs=-1; total time=   0.2s\n",
      "[CV] END criterion=entropy, max_depth=50, min_samples_leaf=1, n_estimators=200, n_jobs=-1; total time=   0.3s\n",
      "[CV] END criterion=entropy, max_depth=50, min_samples_leaf=1, n_estimators=200, n_jobs=-1; total time=   0.3s\n",
      "[CV] END criterion=entropy, max_depth=50, min_samples_leaf=1, n_estimators=200, n_jobs=-1; total time=   0.3s\n",
      "[CV] END criterion=entropy, max_depth=50, min_samples_leaf=2, n_estimators=50, n_jobs=-1; total time=   0.1s\n",
      "[CV] END criterion=entropy, max_depth=50, min_samples_leaf=2, n_estimators=50, n_jobs=-1; total time=   0.1s\n",
      "[CV] END criterion=entropy, max_depth=50, min_samples_leaf=2, n_estimators=50, n_jobs=-1; total time=   0.1s\n",
      "[CV] END criterion=entropy, max_depth=50, min_samples_leaf=2, n_estimators=100, n_jobs=-1; total time=   0.1s\n",
      "[CV] END criterion=entropy, max_depth=50, min_samples_leaf=2, n_estimators=100, n_jobs=-1; total time=   0.2s\n",
      "[CV] END criterion=entropy, max_depth=50, min_samples_leaf=2, n_estimators=100, n_jobs=-1; total time=   0.1s\n",
      "[CV] END criterion=entropy, max_depth=50, min_samples_leaf=2, n_estimators=200, n_jobs=-1; total time=   0.3s\n",
      "[CV] END criterion=entropy, max_depth=50, min_samples_leaf=2, n_estimators=200, n_jobs=-1; total time=   0.3s\n",
      "[CV] END criterion=entropy, max_depth=50, min_samples_leaf=2, n_estimators=200, n_jobs=-1; total time=   0.3s\n",
      "[CV] END criterion=entropy, max_depth=50, min_samples_leaf=3, n_estimators=50, n_jobs=-1; total time=   0.1s\n",
      "[CV] END criterion=entropy, max_depth=50, min_samples_leaf=3, n_estimators=50, n_jobs=-1; total time=   0.1s\n",
      "[CV] END criterion=entropy, max_depth=50, min_samples_leaf=3, n_estimators=50, n_jobs=-1; total time=   0.1s\n",
      "[CV] END criterion=entropy, max_depth=50, min_samples_leaf=3, n_estimators=100, n_jobs=-1; total time=   0.1s\n",
      "[CV] END criterion=entropy, max_depth=50, min_samples_leaf=3, n_estimators=100, n_jobs=-1; total time=   0.1s\n",
      "[CV] END criterion=entropy, max_depth=50, min_samples_leaf=3, n_estimators=100, n_jobs=-1; total time=   0.1s\n",
      "[CV] END criterion=entropy, max_depth=50, min_samples_leaf=3, n_estimators=200, n_jobs=-1; total time=   0.3s\n",
      "[CV] END criterion=entropy, max_depth=50, min_samples_leaf=3, n_estimators=200, n_jobs=-1; total time=   0.3s\n",
      "[CV] END criterion=entropy, max_depth=50, min_samples_leaf=3, n_estimators=200, n_jobs=-1; total time=   0.3s\n",
      "[CV] END criterion=entropy, max_depth=50, min_samples_leaf=5, n_estimators=50, n_jobs=-1; total time=   0.1s\n",
      "[CV] END criterion=entropy, max_depth=50, min_samples_leaf=5, n_estimators=50, n_jobs=-1; total time=   0.1s\n",
      "[CV] END criterion=entropy, max_depth=50, min_samples_leaf=5, n_estimators=50, n_jobs=-1; total time=   0.1s\n",
      "[CV] END criterion=entropy, max_depth=50, min_samples_leaf=5, n_estimators=100, n_jobs=-1; total time=   0.1s\n",
      "[CV] END criterion=entropy, max_depth=50, min_samples_leaf=5, n_estimators=100, n_jobs=-1; total time=   0.1s\n",
      "[CV] END criterion=entropy, max_depth=50, min_samples_leaf=5, n_estimators=100, n_jobs=-1; total time=   0.1s\n",
      "[CV] END criterion=entropy, max_depth=50, min_samples_leaf=5, n_estimators=200, n_jobs=-1; total time=   0.3s\n",
      "[CV] END criterion=entropy, max_depth=50, min_samples_leaf=5, n_estimators=200, n_jobs=-1; total time=   0.3s\n",
      "[CV] END criterion=entropy, max_depth=50, min_samples_leaf=5, n_estimators=200, n_jobs=-1; total time=   0.3s\n",
      "[CV] END criterion=entropy, max_depth=50, min_samples_leaf=6, n_estimators=50, n_jobs=-1; total time=   0.1s\n",
      "[CV] END criterion=entropy, max_depth=50, min_samples_leaf=6, n_estimators=50, n_jobs=-1; total time=   0.1s\n",
      "[CV] END criterion=entropy, max_depth=50, min_samples_leaf=6, n_estimators=50, n_jobs=-1; total time=   0.1s\n",
      "[CV] END criterion=entropy, max_depth=50, min_samples_leaf=6, n_estimators=100, n_jobs=-1; total time=   0.1s\n",
      "[CV] END criterion=entropy, max_depth=50, min_samples_leaf=6, n_estimators=100, n_jobs=-1; total time=   0.1s\n",
      "[CV] END criterion=entropy, max_depth=50, min_samples_leaf=6, n_estimators=100, n_jobs=-1; total time=   0.1s\n",
      "[CV] END criterion=entropy, max_depth=50, min_samples_leaf=6, n_estimators=200, n_jobs=-1; total time=   0.3s\n",
      "[CV] END criterion=entropy, max_depth=50, min_samples_leaf=6, n_estimators=200, n_jobs=-1; total time=   0.3s\n",
      "[CV] END criterion=entropy, max_depth=50, min_samples_leaf=6, n_estimators=200, n_jobs=-1; total time=   0.3s\n",
      "[CV] END criterion=log_loss, max_depth=10, min_samples_leaf=1, n_estimators=50, n_jobs=-1; total time=   0.0s\n",
      "[CV] END criterion=log_loss, max_depth=10, min_samples_leaf=1, n_estimators=50, n_jobs=-1; total time=   0.0s\n",
      "[CV] END criterion=log_loss, max_depth=10, min_samples_leaf=1, n_estimators=50, n_jobs=-1; total time=   0.0s\n",
      "[CV] END criterion=log_loss, max_depth=10, min_samples_leaf=1, n_estimators=100, n_jobs=-1; total time=   0.0s\n",
      "[CV] END criterion=log_loss, max_depth=10, min_samples_leaf=1, n_estimators=100, n_jobs=-1; total time=   0.0s\n",
      "[CV] END criterion=log_loss, max_depth=10, min_samples_leaf=1, n_estimators=100, n_jobs=-1; total time=   0.0s\n",
      "[CV] END criterion=log_loss, max_depth=10, min_samples_leaf=1, n_estimators=200, n_jobs=-1; total time=   0.1s\n",
      "[CV] END criterion=log_loss, max_depth=10, min_samples_leaf=1, n_estimators=200, n_jobs=-1; total time=   0.1s\n",
      "[CV] END criterion=log_loss, max_depth=10, min_samples_leaf=1, n_estimators=200, n_jobs=-1; total time=   0.1s\n",
      "[CV] END criterion=log_loss, max_depth=10, min_samples_leaf=2, n_estimators=50, n_jobs=-1; total time=   0.0s\n",
      "[CV] END criterion=log_loss, max_depth=10, min_samples_leaf=2, n_estimators=50, n_jobs=-1; total time=   0.0s\n",
      "[CV] END criterion=log_loss, max_depth=10, min_samples_leaf=2, n_estimators=50, n_jobs=-1; total time=   0.0s\n",
      "[CV] END criterion=log_loss, max_depth=10, min_samples_leaf=2, n_estimators=100, n_jobs=-1; total time=   0.0s\n",
      "[CV] END criterion=log_loss, max_depth=10, min_samples_leaf=2, n_estimators=100, n_jobs=-1; total time=   0.0s\n",
      "[CV] END criterion=log_loss, max_depth=10, min_samples_leaf=2, n_estimators=100, n_jobs=-1; total time=   0.0s\n",
      "[CV] END criterion=log_loss, max_depth=10, min_samples_leaf=2, n_estimators=200, n_jobs=-1; total time=   0.1s\n",
      "[CV] END criterion=log_loss, max_depth=10, min_samples_leaf=2, n_estimators=200, n_jobs=-1; total time=   0.1s\n",
      "[CV] END criterion=log_loss, max_depth=10, min_samples_leaf=2, n_estimators=200, n_jobs=-1; total time=   0.1s\n",
      "[CV] END criterion=log_loss, max_depth=10, min_samples_leaf=3, n_estimators=50, n_jobs=-1; total time=   0.0s\n",
      "[CV] END criterion=log_loss, max_depth=10, min_samples_leaf=3, n_estimators=50, n_jobs=-1; total time=   0.0s\n",
      "[CV] END criterion=log_loss, max_depth=10, min_samples_leaf=3, n_estimators=50, n_jobs=-1; total time=   0.0s\n",
      "[CV] END criterion=log_loss, max_depth=10, min_samples_leaf=3, n_estimators=100, n_jobs=-1; total time=   0.0s\n",
      "[CV] END criterion=log_loss, max_depth=10, min_samples_leaf=3, n_estimators=100, n_jobs=-1; total time=   0.0s\n",
      "[CV] END criterion=log_loss, max_depth=10, min_samples_leaf=3, n_estimators=100, n_jobs=-1; total time=   0.0s\n",
      "[CV] END criterion=log_loss, max_depth=10, min_samples_leaf=3, n_estimators=200, n_jobs=-1; total time=   0.1s\n",
      "[CV] END criterion=log_loss, max_depth=10, min_samples_leaf=3, n_estimators=200, n_jobs=-1; total time=   0.1s\n",
      "[CV] END criterion=log_loss, max_depth=10, min_samples_leaf=3, n_estimators=200, n_jobs=-1; total time=   0.1s\n",
      "[CV] END criterion=log_loss, max_depth=10, min_samples_leaf=5, n_estimators=50, n_jobs=-1; total time=   0.0s\n",
      "[CV] END criterion=log_loss, max_depth=10, min_samples_leaf=5, n_estimators=50, n_jobs=-1; total time=   0.0s\n",
      "[CV] END criterion=log_loss, max_depth=10, min_samples_leaf=5, n_estimators=50, n_jobs=-1; total time=   0.0s\n",
      "[CV] END criterion=log_loss, max_depth=10, min_samples_leaf=5, n_estimators=100, n_jobs=-1; total time=   0.0s\n",
      "[CV] END criterion=log_loss, max_depth=10, min_samples_leaf=5, n_estimators=100, n_jobs=-1; total time=   0.0s\n",
      "[CV] END criterion=log_loss, max_depth=10, min_samples_leaf=5, n_estimators=100, n_jobs=-1; total time=   0.0s\n",
      "[CV] END criterion=log_loss, max_depth=10, min_samples_leaf=5, n_estimators=200, n_jobs=-1; total time=   0.1s\n",
      "[CV] END criterion=log_loss, max_depth=10, min_samples_leaf=5, n_estimators=200, n_jobs=-1; total time=   0.1s\n",
      "[CV] END criterion=log_loss, max_depth=10, min_samples_leaf=5, n_estimators=200, n_jobs=-1; total time=   0.1s\n",
      "[CV] END criterion=log_loss, max_depth=10, min_samples_leaf=6, n_estimators=50, n_jobs=-1; total time=   0.0s\n",
      "[CV] END criterion=log_loss, max_depth=10, min_samples_leaf=6, n_estimators=50, n_jobs=-1; total time=   0.0s\n",
      "[CV] END criterion=log_loss, max_depth=10, min_samples_leaf=6, n_estimators=50, n_jobs=-1; total time=   0.0s\n",
      "[CV] END criterion=log_loss, max_depth=10, min_samples_leaf=6, n_estimators=100, n_jobs=-1; total time=   0.0s\n",
      "[CV] END criterion=log_loss, max_depth=10, min_samples_leaf=6, n_estimators=100, n_jobs=-1; total time=   0.0s\n",
      "[CV] END criterion=log_loss, max_depth=10, min_samples_leaf=6, n_estimators=100, n_jobs=-1; total time=   0.0s\n",
      "[CV] END criterion=log_loss, max_depth=10, min_samples_leaf=6, n_estimators=200, n_jobs=-1; total time=   0.1s\n",
      "[CV] END criterion=log_loss, max_depth=10, min_samples_leaf=6, n_estimators=200, n_jobs=-1; total time=   0.1s\n",
      "[CV] END criterion=log_loss, max_depth=10, min_samples_leaf=6, n_estimators=200, n_jobs=-1; total time=   0.1s\n",
      "[CV] END criterion=log_loss, max_depth=20, min_samples_leaf=1, n_estimators=50, n_jobs=-1; total time=   0.0s\n",
      "[CV] END criterion=log_loss, max_depth=20, min_samples_leaf=1, n_estimators=50, n_jobs=-1; total time=   0.0s\n",
      "[CV] END criterion=log_loss, max_depth=20, min_samples_leaf=1, n_estimators=50, n_jobs=-1; total time=   0.0s\n",
      "[CV] END criterion=log_loss, max_depth=20, min_samples_leaf=1, n_estimators=100, n_jobs=-1; total time=   0.0s\n",
      "[CV] END criterion=log_loss, max_depth=20, min_samples_leaf=1, n_estimators=100, n_jobs=-1; total time=   0.0s\n",
      "[CV] END criterion=log_loss, max_depth=20, min_samples_leaf=1, n_estimators=100, n_jobs=-1; total time=   0.0s\n",
      "[CV] END criterion=log_loss, max_depth=20, min_samples_leaf=1, n_estimators=200, n_jobs=-1; total time=   0.1s\n",
      "[CV] END criterion=log_loss, max_depth=20, min_samples_leaf=1, n_estimators=200, n_jobs=-1; total time=   0.1s\n",
      "[CV] END criterion=log_loss, max_depth=20, min_samples_leaf=1, n_estimators=200, n_jobs=-1; total time=   0.1s\n",
      "[CV] END criterion=log_loss, max_depth=20, min_samples_leaf=2, n_estimators=50, n_jobs=-1; total time=   0.0s\n",
      "[CV] END criterion=log_loss, max_depth=20, min_samples_leaf=2, n_estimators=50, n_jobs=-1; total time=   0.0s\n",
      "[CV] END criterion=log_loss, max_depth=20, min_samples_leaf=2, n_estimators=50, n_jobs=-1; total time=   0.0s\n",
      "[CV] END criterion=log_loss, max_depth=20, min_samples_leaf=2, n_estimators=100, n_jobs=-1; total time=   0.0s\n",
      "[CV] END criterion=log_loss, max_depth=20, min_samples_leaf=2, n_estimators=100, n_jobs=-1; total time=   0.0s\n",
      "[CV] END criterion=log_loss, max_depth=20, min_samples_leaf=2, n_estimators=100, n_jobs=-1; total time=   0.0s\n",
      "[CV] END criterion=log_loss, max_depth=20, min_samples_leaf=2, n_estimators=200, n_jobs=-1; total time=   0.1s\n",
      "[CV] END criterion=log_loss, max_depth=20, min_samples_leaf=2, n_estimators=200, n_jobs=-1; total time=   0.1s\n",
      "[CV] END criterion=log_loss, max_depth=20, min_samples_leaf=2, n_estimators=200, n_jobs=-1; total time=   0.1s\n",
      "[CV] END criterion=log_loss, max_depth=20, min_samples_leaf=3, n_estimators=50, n_jobs=-1; total time=   0.0s\n",
      "[CV] END criterion=log_loss, max_depth=20, min_samples_leaf=3, n_estimators=50, n_jobs=-1; total time=   0.0s\n",
      "[CV] END criterion=log_loss, max_depth=20, min_samples_leaf=3, n_estimators=50, n_jobs=-1; total time=   0.0s\n",
      "[CV] END criterion=log_loss, max_depth=20, min_samples_leaf=3, n_estimators=100, n_jobs=-1; total time=   0.0s\n",
      "[CV] END criterion=log_loss, max_depth=20, min_samples_leaf=3, n_estimators=100, n_jobs=-1; total time=   0.0s\n",
      "[CV] END criterion=log_loss, max_depth=20, min_samples_leaf=3, n_estimators=100, n_jobs=-1; total time=   0.0s\n",
      "[CV] END criterion=log_loss, max_depth=20, min_samples_leaf=3, n_estimators=200, n_jobs=-1; total time=   0.1s\n",
      "[CV] END criterion=log_loss, max_depth=20, min_samples_leaf=3, n_estimators=200, n_jobs=-1; total time=   0.1s\n",
      "[CV] END criterion=log_loss, max_depth=20, min_samples_leaf=3, n_estimators=200, n_jobs=-1; total time=   0.1s\n",
      "[CV] END criterion=log_loss, max_depth=20, min_samples_leaf=5, n_estimators=50, n_jobs=-1; total time=   0.0s\n",
      "[CV] END criterion=log_loss, max_depth=20, min_samples_leaf=5, n_estimators=50, n_jobs=-1; total time=   0.0s\n",
      "[CV] END criterion=log_loss, max_depth=20, min_samples_leaf=5, n_estimators=50, n_jobs=-1; total time=   0.0s\n",
      "[CV] END criterion=log_loss, max_depth=20, min_samples_leaf=5, n_estimators=100, n_jobs=-1; total time=   0.0s\n",
      "[CV] END criterion=log_loss, max_depth=20, min_samples_leaf=5, n_estimators=100, n_jobs=-1; total time=   0.0s\n",
      "[CV] END criterion=log_loss, max_depth=20, min_samples_leaf=5, n_estimators=100, n_jobs=-1; total time=   0.0s\n",
      "[CV] END criterion=log_loss, max_depth=20, min_samples_leaf=5, n_estimators=200, n_jobs=-1; total time=   0.1s\n",
      "[CV] END criterion=log_loss, max_depth=20, min_samples_leaf=5, n_estimators=200, n_jobs=-1; total time=   0.1s\n",
      "[CV] END criterion=log_loss, max_depth=20, min_samples_leaf=5, n_estimators=200, n_jobs=-1; total time=   0.1s\n",
      "[CV] END criterion=log_loss, max_depth=20, min_samples_leaf=6, n_estimators=50, n_jobs=-1; total time=   0.0s\n",
      "[CV] END criterion=log_loss, max_depth=20, min_samples_leaf=6, n_estimators=50, n_jobs=-1; total time=   0.0s\n",
      "[CV] END criterion=log_loss, max_depth=20, min_samples_leaf=6, n_estimators=50, n_jobs=-1; total time=   0.0s\n",
      "[CV] END criterion=log_loss, max_depth=20, min_samples_leaf=6, n_estimators=100, n_jobs=-1; total time=   0.0s\n",
      "[CV] END criterion=log_loss, max_depth=20, min_samples_leaf=6, n_estimators=100, n_jobs=-1; total time=   0.0s\n",
      "[CV] END criterion=log_loss, max_depth=20, min_samples_leaf=6, n_estimators=100, n_jobs=-1; total time=   0.0s\n",
      "[CV] END criterion=log_loss, max_depth=20, min_samples_leaf=6, n_estimators=200, n_jobs=-1; total time=   0.1s\n",
      "[CV] END criterion=log_loss, max_depth=20, min_samples_leaf=6, n_estimators=200, n_jobs=-1; total time=   0.1s\n",
      "[CV] END criterion=log_loss, max_depth=20, min_samples_leaf=6, n_estimators=200, n_jobs=-1; total time=   0.1s\n",
      "[CV] END criterion=log_loss, max_depth=30, min_samples_leaf=1, n_estimators=50, n_jobs=-1; total time=   0.0s\n",
      "[CV] END criterion=log_loss, max_depth=30, min_samples_leaf=1, n_estimators=50, n_jobs=-1; total time=   0.0s\n",
      "[CV] END criterion=log_loss, max_depth=30, min_samples_leaf=1, n_estimators=50, n_jobs=-1; total time=   0.0s\n",
      "[CV] END criterion=log_loss, max_depth=30, min_samples_leaf=1, n_estimators=100, n_jobs=-1; total time=   0.0s\n",
      "[CV] END criterion=log_loss, max_depth=30, min_samples_leaf=1, n_estimators=100, n_jobs=-1; total time=   0.0s\n",
      "[CV] END criterion=log_loss, max_depth=30, min_samples_leaf=1, n_estimators=100, n_jobs=-1; total time=   0.0s\n",
      "[CV] END criterion=log_loss, max_depth=30, min_samples_leaf=1, n_estimators=200, n_jobs=-1; total time=   0.1s\n",
      "[CV] END criterion=log_loss, max_depth=30, min_samples_leaf=1, n_estimators=200, n_jobs=-1; total time=   0.1s\n",
      "[CV] END criterion=log_loss, max_depth=30, min_samples_leaf=1, n_estimators=200, n_jobs=-1; total time=   0.1s\n",
      "[CV] END criterion=log_loss, max_depth=30, min_samples_leaf=2, n_estimators=50, n_jobs=-1; total time=   0.0s\n",
      "[CV] END criterion=log_loss, max_depth=30, min_samples_leaf=2, n_estimators=50, n_jobs=-1; total time=   0.0s\n",
      "[CV] END criterion=log_loss, max_depth=30, min_samples_leaf=2, n_estimators=50, n_jobs=-1; total time=   0.0s\n",
      "[CV] END criterion=log_loss, max_depth=30, min_samples_leaf=2, n_estimators=100, n_jobs=-1; total time=   0.0s\n",
      "[CV] END criterion=log_loss, max_depth=30, min_samples_leaf=2, n_estimators=100, n_jobs=-1; total time=   0.0s\n",
      "[CV] END criterion=log_loss, max_depth=30, min_samples_leaf=2, n_estimators=100, n_jobs=-1; total time=   0.0s\n",
      "[CV] END criterion=log_loss, max_depth=30, min_samples_leaf=2, n_estimators=200, n_jobs=-1; total time=   0.1s\n",
      "[CV] END criterion=log_loss, max_depth=30, min_samples_leaf=2, n_estimators=200, n_jobs=-1; total time=   0.1s\n",
      "[CV] END criterion=log_loss, max_depth=30, min_samples_leaf=2, n_estimators=200, n_jobs=-1; total time=   0.1s\n",
      "[CV] END criterion=log_loss, max_depth=30, min_samples_leaf=3, n_estimators=50, n_jobs=-1; total time=   0.0s\n",
      "[CV] END criterion=log_loss, max_depth=30, min_samples_leaf=3, n_estimators=50, n_jobs=-1; total time=   0.0s\n",
      "[CV] END criterion=log_loss, max_depth=30, min_samples_leaf=3, n_estimators=50, n_jobs=-1; total time=   0.0s\n",
      "[CV] END criterion=log_loss, max_depth=30, min_samples_leaf=3, n_estimators=100, n_jobs=-1; total time=   0.0s\n",
      "[CV] END criterion=log_loss, max_depth=30, min_samples_leaf=3, n_estimators=100, n_jobs=-1; total time=   0.0s\n",
      "[CV] END criterion=log_loss, max_depth=30, min_samples_leaf=3, n_estimators=100, n_jobs=-1; total time=   0.0s\n",
      "[CV] END criterion=log_loss, max_depth=30, min_samples_leaf=3, n_estimators=200, n_jobs=-1; total time=   0.1s\n",
      "[CV] END criterion=log_loss, max_depth=30, min_samples_leaf=3, n_estimators=200, n_jobs=-1; total time=   0.1s\n",
      "[CV] END criterion=log_loss, max_depth=30, min_samples_leaf=3, n_estimators=200, n_jobs=-1; total time=   0.1s\n",
      "[CV] END criterion=log_loss, max_depth=30, min_samples_leaf=5, n_estimators=50, n_jobs=-1; total time=   0.0s\n",
      "[CV] END criterion=log_loss, max_depth=30, min_samples_leaf=5, n_estimators=50, n_jobs=-1; total time=   0.0s\n",
      "[CV] END criterion=log_loss, max_depth=30, min_samples_leaf=5, n_estimators=50, n_jobs=-1; total time=   0.0s\n",
      "[CV] END criterion=log_loss, max_depth=30, min_samples_leaf=5, n_estimators=100, n_jobs=-1; total time=   0.0s\n",
      "[CV] END criterion=log_loss, max_depth=30, min_samples_leaf=5, n_estimators=100, n_jobs=-1; total time=   0.0s\n",
      "[CV] END criterion=log_loss, max_depth=30, min_samples_leaf=5, n_estimators=100, n_jobs=-1; total time=   0.0s\n",
      "[CV] END criterion=log_loss, max_depth=30, min_samples_leaf=5, n_estimators=200, n_jobs=-1; total time=   0.1s\n",
      "[CV] END criterion=log_loss, max_depth=30, min_samples_leaf=5, n_estimators=200, n_jobs=-1; total time=   0.1s\n",
      "[CV] END criterion=log_loss, max_depth=30, min_samples_leaf=5, n_estimators=200, n_jobs=-1; total time=   0.1s\n",
      "[CV] END criterion=log_loss, max_depth=30, min_samples_leaf=6, n_estimators=50, n_jobs=-1; total time=   0.0s\n",
      "[CV] END criterion=log_loss, max_depth=30, min_samples_leaf=6, n_estimators=50, n_jobs=-1; total time=   0.0s\n",
      "[CV] END criterion=log_loss, max_depth=30, min_samples_leaf=6, n_estimators=50, n_jobs=-1; total time=   0.0s\n",
      "[CV] END criterion=log_loss, max_depth=30, min_samples_leaf=6, n_estimators=100, n_jobs=-1; total time=   0.0s\n",
      "[CV] END criterion=log_loss, max_depth=30, min_samples_leaf=6, n_estimators=100, n_jobs=-1; total time=   0.1s\n",
      "[CV] END criterion=log_loss, max_depth=30, min_samples_leaf=6, n_estimators=100, n_jobs=-1; total time=   0.0s\n",
      "[CV] END criterion=log_loss, max_depth=30, min_samples_leaf=6, n_estimators=200, n_jobs=-1; total time=   0.1s\n",
      "[CV] END criterion=log_loss, max_depth=30, min_samples_leaf=6, n_estimators=200, n_jobs=-1; total time=   0.1s\n",
      "[CV] END criterion=log_loss, max_depth=30, min_samples_leaf=6, n_estimators=200, n_jobs=-1; total time=   0.1s\n",
      "[CV] END criterion=log_loss, max_depth=40, min_samples_leaf=1, n_estimators=50, n_jobs=-1; total time=   0.0s\n",
      "[CV] END criterion=log_loss, max_depth=40, min_samples_leaf=1, n_estimators=50, n_jobs=-1; total time=   0.0s\n",
      "[CV] END criterion=log_loss, max_depth=40, min_samples_leaf=1, n_estimators=50, n_jobs=-1; total time=   0.0s\n",
      "[CV] END criterion=log_loss, max_depth=40, min_samples_leaf=1, n_estimators=100, n_jobs=-1; total time=   0.0s\n",
      "[CV] END criterion=log_loss, max_depth=40, min_samples_leaf=1, n_estimators=100, n_jobs=-1; total time=   0.0s\n",
      "[CV] END criterion=log_loss, max_depth=40, min_samples_leaf=1, n_estimators=100, n_jobs=-1; total time=   0.0s\n",
      "[CV] END criterion=log_loss, max_depth=40, min_samples_leaf=1, n_estimators=200, n_jobs=-1; total time=   0.1s\n",
      "[CV] END criterion=log_loss, max_depth=40, min_samples_leaf=1, n_estimators=200, n_jobs=-1; total time=   0.1s\n",
      "[CV] END criterion=log_loss, max_depth=40, min_samples_leaf=1, n_estimators=200, n_jobs=-1; total time=   0.1s\n",
      "[CV] END criterion=log_loss, max_depth=40, min_samples_leaf=2, n_estimators=50, n_jobs=-1; total time=   0.0s\n",
      "[CV] END criterion=log_loss, max_depth=40, min_samples_leaf=2, n_estimators=50, n_jobs=-1; total time=   0.0s\n",
      "[CV] END criterion=log_loss, max_depth=40, min_samples_leaf=2, n_estimators=50, n_jobs=-1; total time=   0.0s\n",
      "[CV] END criterion=log_loss, max_depth=40, min_samples_leaf=2, n_estimators=100, n_jobs=-1; total time=   0.0s\n",
      "[CV] END criterion=log_loss, max_depth=40, min_samples_leaf=2, n_estimators=100, n_jobs=-1; total time=   0.0s\n",
      "[CV] END criterion=log_loss, max_depth=40, min_samples_leaf=2, n_estimators=100, n_jobs=-1; total time=   0.0s\n",
      "[CV] END criterion=log_loss, max_depth=40, min_samples_leaf=2, n_estimators=200, n_jobs=-1; total time=   0.1s\n",
      "[CV] END criterion=log_loss, max_depth=40, min_samples_leaf=2, n_estimators=200, n_jobs=-1; total time=   0.1s\n",
      "[CV] END criterion=log_loss, max_depth=40, min_samples_leaf=2, n_estimators=200, n_jobs=-1; total time=   0.1s\n",
      "[CV] END criterion=log_loss, max_depth=40, min_samples_leaf=3, n_estimators=50, n_jobs=-1; total time=   0.0s\n",
      "[CV] END criterion=log_loss, max_depth=40, min_samples_leaf=3, n_estimators=50, n_jobs=-1; total time=   0.0s\n",
      "[CV] END criterion=log_loss, max_depth=40, min_samples_leaf=3, n_estimators=50, n_jobs=-1; total time=   0.0s\n",
      "[CV] END criterion=log_loss, max_depth=40, min_samples_leaf=3, n_estimators=100, n_jobs=-1; total time=   0.0s\n",
      "[CV] END criterion=log_loss, max_depth=40, min_samples_leaf=3, n_estimators=100, n_jobs=-1; total time=   0.0s\n",
      "[CV] END criterion=log_loss, max_depth=40, min_samples_leaf=3, n_estimators=100, n_jobs=-1; total time=   0.0s\n",
      "[CV] END criterion=log_loss, max_depth=40, min_samples_leaf=3, n_estimators=200, n_jobs=-1; total time=   0.1s\n",
      "[CV] END criterion=log_loss, max_depth=40, min_samples_leaf=3, n_estimators=200, n_jobs=-1; total time=   0.1s\n",
      "[CV] END criterion=log_loss, max_depth=40, min_samples_leaf=3, n_estimators=200, n_jobs=-1; total time=   0.1s\n",
      "[CV] END criterion=log_loss, max_depth=40, min_samples_leaf=5, n_estimators=50, n_jobs=-1; total time=   0.0s\n",
      "[CV] END criterion=log_loss, max_depth=40, min_samples_leaf=5, n_estimators=50, n_jobs=-1; total time=   0.0s\n",
      "[CV] END criterion=log_loss, max_depth=40, min_samples_leaf=5, n_estimators=50, n_jobs=-1; total time=   0.0s\n",
      "[CV] END criterion=log_loss, max_depth=40, min_samples_leaf=5, n_estimators=100, n_jobs=-1; total time=   0.0s\n",
      "[CV] END criterion=log_loss, max_depth=40, min_samples_leaf=5, n_estimators=100, n_jobs=-1; total time=   0.0s\n",
      "[CV] END criterion=log_loss, max_depth=40, min_samples_leaf=5, n_estimators=100, n_jobs=-1; total time=   0.0s\n",
      "[CV] END criterion=log_loss, max_depth=40, min_samples_leaf=5, n_estimators=200, n_jobs=-1; total time=   0.1s\n",
      "[CV] END criterion=log_loss, max_depth=40, min_samples_leaf=5, n_estimators=200, n_jobs=-1; total time=   0.1s\n",
      "[CV] END criterion=log_loss, max_depth=40, min_samples_leaf=5, n_estimators=200, n_jobs=-1; total time=   0.1s\n",
      "[CV] END criterion=log_loss, max_depth=40, min_samples_leaf=6, n_estimators=50, n_jobs=-1; total time=   0.0s\n",
      "[CV] END criterion=log_loss, max_depth=40, min_samples_leaf=6, n_estimators=50, n_jobs=-1; total time=   0.0s\n",
      "[CV] END criterion=log_loss, max_depth=40, min_samples_leaf=6, n_estimators=50, n_jobs=-1; total time=   0.0s\n",
      "[CV] END criterion=log_loss, max_depth=40, min_samples_leaf=6, n_estimators=100, n_jobs=-1; total time=   0.0s\n",
      "[CV] END criterion=log_loss, max_depth=40, min_samples_leaf=6, n_estimators=100, n_jobs=-1; total time=   0.0s\n",
      "[CV] END criterion=log_loss, max_depth=40, min_samples_leaf=6, n_estimators=100, n_jobs=-1; total time=   0.0s\n",
      "[CV] END criterion=log_loss, max_depth=40, min_samples_leaf=6, n_estimators=200, n_jobs=-1; total time=   0.1s\n",
      "[CV] END criterion=log_loss, max_depth=40, min_samples_leaf=6, n_estimators=200, n_jobs=-1; total time=   0.1s\n",
      "[CV] END criterion=log_loss, max_depth=40, min_samples_leaf=6, n_estimators=200, n_jobs=-1; total time=   0.1s\n",
      "[CV] END criterion=log_loss, max_depth=50, min_samples_leaf=1, n_estimators=50, n_jobs=-1; total time=   0.0s\n",
      "[CV] END criterion=log_loss, max_depth=50, min_samples_leaf=1, n_estimators=50, n_jobs=-1; total time=   0.0s\n",
      "[CV] END criterion=log_loss, max_depth=50, min_samples_leaf=1, n_estimators=50, n_jobs=-1; total time=   0.0s\n",
      "[CV] END criterion=log_loss, max_depth=50, min_samples_leaf=1, n_estimators=100, n_jobs=-1; total time=   0.0s\n",
      "[CV] END criterion=log_loss, max_depth=50, min_samples_leaf=1, n_estimators=100, n_jobs=-1; total time=   0.0s\n",
      "[CV] END criterion=log_loss, max_depth=50, min_samples_leaf=1, n_estimators=100, n_jobs=-1; total time=   0.0s\n",
      "[CV] END criterion=log_loss, max_depth=50, min_samples_leaf=1, n_estimators=200, n_jobs=-1; total time=   0.1s\n",
      "[CV] END criterion=log_loss, max_depth=50, min_samples_leaf=1, n_estimators=200, n_jobs=-1; total time=   0.1s\n",
      "[CV] END criterion=log_loss, max_depth=50, min_samples_leaf=1, n_estimators=200, n_jobs=-1; total time=   0.1s\n",
      "[CV] END criterion=log_loss, max_depth=50, min_samples_leaf=2, n_estimators=50, n_jobs=-1; total time=   0.0s\n",
      "[CV] END criterion=log_loss, max_depth=50, min_samples_leaf=2, n_estimators=50, n_jobs=-1; total time=   0.0s\n",
      "[CV] END criterion=log_loss, max_depth=50, min_samples_leaf=2, n_estimators=50, n_jobs=-1; total time=   0.0s\n",
      "[CV] END criterion=log_loss, max_depth=50, min_samples_leaf=2, n_estimators=100, n_jobs=-1; total time=   0.0s\n",
      "[CV] END criterion=log_loss, max_depth=50, min_samples_leaf=2, n_estimators=100, n_jobs=-1; total time=   0.0s\n",
      "[CV] END criterion=log_loss, max_depth=50, min_samples_leaf=2, n_estimators=100, n_jobs=-1; total time=   0.0s\n",
      "[CV] END criterion=log_loss, max_depth=50, min_samples_leaf=2, n_estimators=200, n_jobs=-1; total time=   0.1s\n",
      "[CV] END criterion=log_loss, max_depth=50, min_samples_leaf=2, n_estimators=200, n_jobs=-1; total time=   0.1s\n",
      "[CV] END criterion=log_loss, max_depth=50, min_samples_leaf=2, n_estimators=200, n_jobs=-1; total time=   0.1s\n",
      "[CV] END criterion=log_loss, max_depth=50, min_samples_leaf=3, n_estimators=50, n_jobs=-1; total time=   0.0s\n",
      "[CV] END criterion=log_loss, max_depth=50, min_samples_leaf=3, n_estimators=50, n_jobs=-1; total time=   0.0s\n",
      "[CV] END criterion=log_loss, max_depth=50, min_samples_leaf=3, n_estimators=50, n_jobs=-1; total time=   0.0s\n",
      "[CV] END criterion=log_loss, max_depth=50, min_samples_leaf=3, n_estimators=100, n_jobs=-1; total time=   0.0s\n",
      "[CV] END criterion=log_loss, max_depth=50, min_samples_leaf=3, n_estimators=100, n_jobs=-1; total time=   0.0s\n",
      "[CV] END criterion=log_loss, max_depth=50, min_samples_leaf=3, n_estimators=100, n_jobs=-1; total time=   0.0s\n",
      "[CV] END criterion=log_loss, max_depth=50, min_samples_leaf=3, n_estimators=200, n_jobs=-1; total time=   0.1s\n",
      "[CV] END criterion=log_loss, max_depth=50, min_samples_leaf=3, n_estimators=200, n_jobs=-1; total time=   0.1s\n",
      "[CV] END criterion=log_loss, max_depth=50, min_samples_leaf=3, n_estimators=200, n_jobs=-1; total time=   0.1s\n",
      "[CV] END criterion=log_loss, max_depth=50, min_samples_leaf=5, n_estimators=50, n_jobs=-1; total time=   0.0s\n",
      "[CV] END criterion=log_loss, max_depth=50, min_samples_leaf=5, n_estimators=50, n_jobs=-1; total time=   0.0s\n",
      "[CV] END criterion=log_loss, max_depth=50, min_samples_leaf=5, n_estimators=50, n_jobs=-1; total time=   0.0s\n",
      "[CV] END criterion=log_loss, max_depth=50, min_samples_leaf=5, n_estimators=100, n_jobs=-1; total time=   0.0s\n",
      "[CV] END criterion=log_loss, max_depth=50, min_samples_leaf=5, n_estimators=100, n_jobs=-1; total time=   0.0s\n",
      "[CV] END criterion=log_loss, max_depth=50, min_samples_leaf=5, n_estimators=100, n_jobs=-1; total time=   0.0s\n",
      "[CV] END criterion=log_loss, max_depth=50, min_samples_leaf=5, n_estimators=200, n_jobs=-1; total time=   0.1s\n",
      "[CV] END criterion=log_loss, max_depth=50, min_samples_leaf=5, n_estimators=200, n_jobs=-1; total time=   0.1s\n",
      "[CV] END criterion=log_loss, max_depth=50, min_samples_leaf=5, n_estimators=200, n_jobs=-1; total time=   0.1s\n",
      "[CV] END criterion=log_loss, max_depth=50, min_samples_leaf=6, n_estimators=50, n_jobs=-1; total time=   0.0s\n",
      "[CV] END criterion=log_loss, max_depth=50, min_samples_leaf=6, n_estimators=50, n_jobs=-1; total time=   0.0s\n",
      "[CV] END criterion=log_loss, max_depth=50, min_samples_leaf=6, n_estimators=50, n_jobs=-1; total time=   0.0s\n",
      "[CV] END criterion=log_loss, max_depth=50, min_samples_leaf=6, n_estimators=100, n_jobs=-1; total time=   0.0s\n",
      "[CV] END criterion=log_loss, max_depth=50, min_samples_leaf=6, n_estimators=100, n_jobs=-1; total time=   0.0s\n",
      "[CV] END criterion=log_loss, max_depth=50, min_samples_leaf=6, n_estimators=100, n_jobs=-1; total time=   0.0s\n",
      "[CV] END criterion=log_loss, max_depth=50, min_samples_leaf=6, n_estimators=200, n_jobs=-1; total time=   0.1s\n",
      "[CV] END criterion=log_loss, max_depth=50, min_samples_leaf=6, n_estimators=200, n_jobs=-1; total time=   0.1s\n",
      "[CV] END criterion=log_loss, max_depth=50, min_samples_leaf=6, n_estimators=200, n_jobs=-1; total time=   0.1s\n"
     ]
    }
   ],
   "source": [
    "# Execute search\n",
    "results = search.fit(X , y)"
   ]
  },
  {
   "attachments": {},
   "cell_type": "markdown",
   "metadata": {
    "pycharm": {
     "name": "#%% md\n"
    }
   },
   "source": [
    "Note: The time it takes to run the search could range anywhere from a few minutes to hours, depending on the scope of the search space, dataset size, and the processing power of the hardware."
   ]
  },
  {
   "attachments": {},
   "cell_type": "markdown",
   "metadata": {
    "pycharm": {
     "name": "#%% md\n"
    }
   },
   "source": [
    "At the end of the search, we can use the following attributes to access all the results.\n",
    "\n",
    "- `best_estimator`: The estimator that gave the highest score\n",
    "- `best_params`: The combination of hyperparameters that gave the best results\n",
    "- `best_scores`: The mean cross-validated score of the best_estimator"
   ]
  },
  {
   "cell_type": "code",
   "execution_count": 27,
   "metadata": {
    "ExecuteTime": {
     "end_time": "2024-01-17T09:16:34.315991Z",
     "start_time": "2024-01-17T09:16:34.312552Z"
    },
    "pycharm": {
     "name": "#%%\n"
    }
   },
   "outputs": [
    {
     "name": "stdout",
     "output_type": "stream",
     "text": [
      "best estimator: RandomForestClassifier(max_depth=10, n_estimators=50, n_jobs=-1,\n",
      "                       random_state=987)\n"
     ]
    }
   ],
   "source": [
    "# Show the best estimator\n",
    "print(\"best estimator:\", results.best_estimator_)"
   ]
  },
  {
   "cell_type": "code",
   "execution_count": 28,
   "metadata": {
    "ExecuteTime": {
     "end_time": "2024-01-17T09:16:34.318156Z",
     "start_time": "2024-01-17T09:16:34.316810Z"
    },
    "pycharm": {
     "name": "#%%\n"
    }
   },
   "outputs": [
    {
     "name": "stdout",
     "output_type": "stream",
     "text": [
      "best combination of hyperparameters: {'criterion': 'gini', 'max_depth': 10, 'min_samples_leaf': 1, 'n_estimators': 50, 'n_jobs': -1}\n"
     ]
    }
   ],
   "source": [
    "# Show the best combination of hyperparameters\n",
    "print(\"best combination of hyperparameters:\", results.best_params_)"
   ]
  },
  {
   "cell_type": "code",
   "execution_count": 29,
   "metadata": {
    "ExecuteTime": {
     "end_time": "2024-01-17T09:16:34.320106Z",
     "start_time": "2024-01-17T09:16:34.318786Z"
    },
    "pycharm": {
     "name": "#%%\n"
    }
   },
   "outputs": [
    {
     "name": "stdout",
     "output_type": "stream",
     "text": [
      "Best score: 0.7248\n"
     ]
    }
   ],
   "source": [
    "# Show the best score after performing the grid search method\n",
    "print(\"Best score:\", round(results.best_score_,4))"
   ]
  },
  {
   "attachments": {},
   "cell_type": "markdown",
   "metadata": {
    "pycharm": {
     "name": "#%% md\n"
    }
   },
   "source": [
    "The best score is 0.7248, which is greater than 0.7157.\n",
    "\n",
    "As we can see, the performance of the machine learning model has increased compared to the machine learning model trained with default hyperparameters.\n",
    "\n",
    "It is recommended to add or change more options or values of hyperparameters on the **param_grid** and then try to\n",
    "rerun it It may be able to provide better results than what we have found."
   ]
  },
  {
   "cell_type": "markdown",
   "metadata": {},
   "source": [
    "# Advantages of the grid search method\n",
    "\n",
    "Coverage: It ensures that every possible combination of hyperparameters is tested, therefore providing full coverage of the hyperparameter space. This can help to find the best combination that produces the best performance of the ML model based on the defined hyperparameters and their values.\r",
    "t\r\n",
    "\r\n",
    "\r\n",
    "\r\n",
    "Simplicity: It is easy to implement and understand, making it a simple and straightforward approach for hyperparameter optimization. We just need to define the ML algorithm, parameters distribution, and the evaluation metrics for it to start the optimization process.\r\n",
    "\r\n",
    "Reproducibility: This approach makes it possible to easily reproduce results through the use of a set of hyperparameters that are predefined.\r\n",
    "\r\n",
    "Flexibility: It is a flexible method for hyperparameter optimization because it can be easily changed to work with different ML algorithms and hyperparameters. This makes it a great choice for hyperparameter o\n",
    "\n",
    "# Disadvantages of the grid search method\n",
    "\r\n",
    "Computational cost: The method involves training and evaluating the ML model multiple times for different combinations of hyperparameters, which can be computationally expensive and time-consuming. This can become a significant disadvantage when working with large datasets or complex ML models.ct\r\n",
    "\r\n",
    "\r\n",
    "\r\n",
    "Overfitting: When applied, it can lead to overfitting of the model if the grid is too fine-grained or if the number of training samples is too small. This can result in an ML model that performs well on the training data but poorly on unseen data.\r\n",
    "\r\n",
    "Limited exploration: It only explores the hyperparameter values that are specified in the grid, which means that it may miss out on other optimal values of the hyperparameters that are not included in the grid. This can limit the performance of the model and lead to suboptim\n",
    "\n",
    "In summary, the grid search method is an effective and easy-to-use method for hyperparameter optimization. To take full advantage of the grid search method, it is advised to have powerful computational resources, address overfitting challenges, and explore more hyperparameter values during the optimization process. Additionally, it’s a preferred technique for hyperparameter tuning in different ML algorithms.al results.ptimization."
   ]
  },
  {
   "cell_type": "code",
   "execution_count": null,
   "metadata": {},
   "outputs": [],
   "source": []
  }
 ],
 "metadata": {
  "hide_input": false,
  "kernelspec": {
   "display_name": "Python 3 (ipykernel)",
   "language": "python",
   "name": "python3"
  },
  "language_info": {
   "codemirror_mode": {
    "name": "ipython",
    "version": 3
   },
   "file_extension": ".py",
   "mimetype": "text/x-python",
   "name": "python",
   "nbconvert_exporter": "python",
   "pygments_lexer": "ipython3",
   "version": "3.8.10"
  },
  "toc": {
   "base_numbering": 1,
   "nav_menu": {},
   "number_sections": true,
   "sideBar": true,
   "skip_h1_title": false,
   "title_cell": "Table of Contents",
   "title_sidebar": "Contents",
   "toc_cell": false,
   "toc_position": {},
   "toc_section_display": true,
   "toc_window_display": false
  },
  "vscode": {
   "interpreter": {
    "hash": "0dc12b859b976848fa811fad33b4f2aa47124b6c15239b18f9dcbea69ef542e5"
   }
  }
 },
 "nbformat": 4,
 "nbformat_minor": 4
}
